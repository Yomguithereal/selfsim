{
 "cells": [
  {
   "cell_type": "markdown",
   "id": "9b466235-f150-4454-9fba-342699f3f4ae",
   "metadata": {},
   "source": [
    "# Libraries and imports"
   ]
  },
  {
   "cell_type": "code",
   "execution_count": 1,
   "id": "80b89dc5-4c8f-4207-8b92-1fd1edd4cbe1",
   "metadata": {
    "collapsed": true,
    "jupyter": {
     "outputs_hidden": true
    },
    "scrolled": true
   },
   "outputs": [
    {
     "name": "stdout",
     "output_type": "stream",
     "text": [
      "Requirement already satisfied: igraph in /home/yomguithereal/.pyenv/versions/3.11.5/envs/selfsim/lib/python3.11/site-packages (0.11.4)\n",
      "Requirement already satisfied: leidenalg in /home/yomguithereal/.pyenv/versions/3.11.5/envs/selfsim/lib/python3.11/site-packages (0.10.2)\n",
      "Requirement already satisfied: networkx in /home/yomguithereal/.pyenv/versions/3.11.5/envs/selfsim/lib/python3.11/site-packages (2.8.8)\n",
      "Requirement already satisfied: pelote in /home/yomguithereal/.pyenv/versions/3.11.5/envs/selfsim/lib/python3.11/site-packages (0.8.2)\n",
      "Requirement already satisfied: ipysigma in /home/yomguithereal/.pyenv/versions/3.11.5/envs/selfsim/lib/python3.11/site-packages (0.24.2)\n",
      "Requirement already satisfied: fog in /home/yomguithereal/.pyenv/versions/3.11.5/envs/selfsim/lib/python3.11/site-packages (0.11.9)\n",
      "Requirement already satisfied: texttable>=1.6.2 in /home/yomguithereal/.pyenv/versions/3.11.5/envs/selfsim/lib/python3.11/site-packages (from igraph) (1.7.0)\n",
      "Requirement already satisfied: ebbe<2,>=1.9.0 in /home/yomguithereal/.pyenv/versions/3.11.5/envs/selfsim/lib/python3.11/site-packages (from pelote) (1.13.2)\n",
      "Requirement already satisfied: pyllist in /home/yomguithereal/.pyenv/versions/3.11.5/envs/selfsim/lib/python3.11/site-packages (from pelote) (0.3)\n",
      "Requirement already satisfied: ipywidgets>=7.0.0 in /home/yomguithereal/.pyenv/versions/3.11.5/envs/selfsim/lib/python3.11/site-packages (from ipysigma) (8.1.2)\n",
      "Requirement already satisfied: dill>=0.2.7.1 in /home/yomguithereal/.pyenv/versions/3.11.5/envs/selfsim/lib/python3.11/site-packages (from fog) (0.3.8)\n",
      "Requirement already satisfied: emoji<2,>=1 in /home/yomguithereal/.pyenv/versions/3.11.5/envs/selfsim/lib/python3.11/site-packages (from fog) (1.7.0)\n",
      "Requirement already satisfied: phylactery>=0.1.1 in /home/yomguithereal/.pyenv/versions/3.11.5/envs/selfsim/lib/python3.11/site-packages (from fog) (0.2.3)\n",
      "Requirement already satisfied: Unidecode>=1.0.22 in /home/yomguithereal/.pyenv/versions/3.11.5/envs/selfsim/lib/python3.11/site-packages (from fog) (1.3.8)\n",
      "Requirement already satisfied: comm>=0.1.3 in /home/yomguithereal/.pyenv/versions/3.11.5/envs/selfsim/lib/python3.11/site-packages (from ipywidgets>=7.0.0->ipysigma) (0.2.2)\n",
      "Requirement already satisfied: ipython>=6.1.0 in /home/yomguithereal/.pyenv/versions/3.11.5/envs/selfsim/lib/python3.11/site-packages (from ipywidgets>=7.0.0->ipysigma) (8.23.0)\n",
      "Requirement already satisfied: traitlets>=4.3.1 in /home/yomguithereal/.pyenv/versions/3.11.5/envs/selfsim/lib/python3.11/site-packages (from ipywidgets>=7.0.0->ipysigma) (5.14.2)\n",
      "Requirement already satisfied: widgetsnbextension~=4.0.10 in /home/yomguithereal/.pyenv/versions/3.11.5/envs/selfsim/lib/python3.11/site-packages (from ipywidgets>=7.0.0->ipysigma) (4.0.10)\n",
      "Requirement already satisfied: jupyterlab-widgets~=3.0.10 in /home/yomguithereal/.pyenv/versions/3.11.5/envs/selfsim/lib/python3.11/site-packages (from ipywidgets>=7.0.0->ipysigma) (3.0.10)\n",
      "Requirement already satisfied: decorator in /home/yomguithereal/.pyenv/versions/3.11.5/envs/selfsim/lib/python3.11/site-packages (from ipython>=6.1.0->ipywidgets>=7.0.0->ipysigma) (5.1.1)\n",
      "Requirement already satisfied: jedi>=0.16 in /home/yomguithereal/.pyenv/versions/3.11.5/envs/selfsim/lib/python3.11/site-packages (from ipython>=6.1.0->ipywidgets>=7.0.0->ipysigma) (0.19.1)\n",
      "Requirement already satisfied: matplotlib-inline in /home/yomguithereal/.pyenv/versions/3.11.5/envs/selfsim/lib/python3.11/site-packages (from ipython>=6.1.0->ipywidgets>=7.0.0->ipysigma) (0.1.6)\n",
      "Requirement already satisfied: prompt-toolkit<3.1.0,>=3.0.41 in /home/yomguithereal/.pyenv/versions/3.11.5/envs/selfsim/lib/python3.11/site-packages (from ipython>=6.1.0->ipywidgets>=7.0.0->ipysigma) (3.0.43)\n",
      "Requirement already satisfied: pygments>=2.4.0 in /home/yomguithereal/.pyenv/versions/3.11.5/envs/selfsim/lib/python3.11/site-packages (from ipython>=6.1.0->ipywidgets>=7.0.0->ipysigma) (2.17.2)\n",
      "Requirement already satisfied: stack-data in /home/yomguithereal/.pyenv/versions/3.11.5/envs/selfsim/lib/python3.11/site-packages (from ipython>=6.1.0->ipywidgets>=7.0.0->ipysigma) (0.6.3)\n",
      "Requirement already satisfied: typing-extensions in /home/yomguithereal/.pyenv/versions/3.11.5/envs/selfsim/lib/python3.11/site-packages (from ipython>=6.1.0->ipywidgets>=7.0.0->ipysigma) (4.11.0)\n",
      "Requirement already satisfied: pexpect>4.3 in /home/yomguithereal/.pyenv/versions/3.11.5/envs/selfsim/lib/python3.11/site-packages (from ipython>=6.1.0->ipywidgets>=7.0.0->ipysigma) (4.9.0)\n",
      "Requirement already satisfied: parso<0.9.0,>=0.8.3 in /home/yomguithereal/.pyenv/versions/3.11.5/envs/selfsim/lib/python3.11/site-packages (from jedi>=0.16->ipython>=6.1.0->ipywidgets>=7.0.0->ipysigma) (0.8.4)\n",
      "Requirement already satisfied: ptyprocess>=0.5 in /home/yomguithereal/.pyenv/versions/3.11.5/envs/selfsim/lib/python3.11/site-packages (from pexpect>4.3->ipython>=6.1.0->ipywidgets>=7.0.0->ipysigma) (0.7.0)\n",
      "Requirement already satisfied: wcwidth in /home/yomguithereal/.pyenv/versions/3.11.5/envs/selfsim/lib/python3.11/site-packages (from prompt-toolkit<3.1.0,>=3.0.41->ipython>=6.1.0->ipywidgets>=7.0.0->ipysigma) (0.2.13)\n",
      "Requirement already satisfied: executing>=1.2.0 in /home/yomguithereal/.pyenv/versions/3.11.5/envs/selfsim/lib/python3.11/site-packages (from stack-data->ipython>=6.1.0->ipywidgets>=7.0.0->ipysigma) (2.0.1)\n",
      "Requirement already satisfied: asttokens>=2.1.0 in /home/yomguithereal/.pyenv/versions/3.11.5/envs/selfsim/lib/python3.11/site-packages (from stack-data->ipython>=6.1.0->ipywidgets>=7.0.0->ipysigma) (2.4.1)\n",
      "Requirement already satisfied: pure-eval in /home/yomguithereal/.pyenv/versions/3.11.5/envs/selfsim/lib/python3.11/site-packages (from stack-data->ipython>=6.1.0->ipywidgets>=7.0.0->ipysigma) (0.2.2)\n",
      "Requirement already satisfied: six>=1.12.0 in /home/yomguithereal/.pyenv/versions/3.11.5/envs/selfsim/lib/python3.11/site-packages (from asttokens>=2.1.0->stack-data->ipython>=6.1.0->ipywidgets>=7.0.0->ipysigma) (1.16.0)\n"
     ]
    }
   ],
   "source": [
    "# NOTE: relaunch Jupyter if ipysigma widgets don't show\n",
    "!pip install igraph leidenalg networkx pelote ipysigma fog"
   ]
  },
  {
   "cell_type": "code",
   "execution_count": 2,
   "id": "d6b0b3e6-8061-4298-80bf-3e870eb8e7da",
   "metadata": {},
   "outputs": [],
   "source": [
    "import math\n",
    "import networkx as nx\n",
    "import igraph as ig\n",
    "import leidenalg as la\n",
    "from copy import deepcopy\n",
    "from pelote import read_graphology_json, triangular_strength, filter_edges\n",
    "from pelote.graph import union_of_maximum_spanning_trees\n",
    "from ipysigma import Sigma, SigmaGrid\n",
    "from fog.metrics.utils import intersection_size\n",
    "\n",
    "Sigma.set_defaults(max_categorical_colors=25)"
   ]
  },
  {
   "cell_type": "markdown",
   "id": "63e1d6be-1407-4d39-a69e-f557d563dcaf",
   "metadata": {
    "jp-MarkdownHeadingCollapsed": true
   },
   "source": [
    "# Misc helpers"
   ]
  },
  {
   "cell_type": "code",
   "execution_count": 3,
   "id": "169007e4-1500-4130-9952-e463c54a9751",
   "metadata": {},
   "outputs": [],
   "source": [
    "def erase_node_positions(g: nx.Graph) -> None:\n",
    "    for node, attr in g.nodes.data():\n",
    "        try:\n",
    "            del attr[\"x\"]\n",
    "            del attr[\"y\"]\n",
    "        except KeyError:\n",
    "            pass"
   ]
  },
  {
   "cell_type": "markdown",
   "id": "49a435e6-ebb9-4eab-a0cb-2a8d894a7fb5",
   "metadata": {},
   "source": [
    "# Leiden helpers"
   ]
  },
  {
   "cell_type": "code",
   "execution_count": 4,
   "id": "2becfb02-b815-48bb-bfd0-2f8a09c70adf",
   "metadata": {},
   "outputs": [],
   "source": [
    "def leiden_modularity(g: nx.Graph, weighted: bool = False):\n",
    "    ig_g = ig.Graph.from_networkx(g)\n",
    "\n",
    "    weights = None\n",
    "\n",
    "    if weighted:\n",
    "        weights = [float(w) for _, _, w in g.edges(data=\"weight\")]\n",
    "    \n",
    "    partition = la.find_partition(ig_g, la.ModularityVertexPartition, weights=weights)\n",
    "    return {n: m for n, m in zip(g, partition._membership)}"
   ]
  },
  {
   "cell_type": "code",
   "execution_count": 5,
   "id": "ef201c7a-211a-4828-bfac-b203af78f85c",
   "metadata": {},
   "outputs": [],
   "source": [
    "# Ref: https://github.com/graphology/graphology/pull/419\n",
    "def leiden_modularity_with_ambiguities(g: nx.Graph, n: int, weighted: bool = False):\n",
    "    assert n > 0\n",
    "    \n",
    "    partitions = [leiden_modularity(g, weighted=weighted) for _ in range(n)]\n",
    "\n",
    "    node_registers = {}\n",
    "    \n",
    "    for node in g:\n",
    "        node_registers[node] = {\n",
    "            \"entropyEdges\": 0,\n",
    "            \"entropyNonEdges\": 0,\n",
    "            \"nonNeighborsMet\": 0,\n",
    "        }\n",
    "\n",
    "    def process_node_pair(n1, n2, is_edge: bool):\n",
    "        if not is_edge:\n",
    "            node_registers[n1][\"nonNeighborsMet\"] += 1\n",
    "            node_registers[n2][\"nonNeighborsMet\"] += 1\n",
    "\n",
    "        in_same_cluster_count = 0\n",
    "\n",
    "        for p in partitions:\n",
    "            if p[n1] == p[n2]:\n",
    "                in_same_cluster_count += 1\n",
    "\n",
    "        ratio = in_same_cluster_count / len(partitions)\n",
    "\n",
    "        if in_same_cluster_count == 0 or in_same_cluster_count == len(partitions):\n",
    "            return\n",
    "\n",
    "        entropy = ((ratio - 1) * math.log(1 - ratio) - ratio * math.log(ratio)) / math.log(2)\n",
    "        key = 'entropy' + ('Edges' if is_edge else 'NonEdges')\n",
    "\n",
    "        node_registers[n1][key] += entropy\n",
    "        node_registers[n2][key] += entropy\n",
    "\n",
    "    # NOTE: we are not sampling pairs here, we do everything\n",
    "    nodes = list(g)\n",
    "\n",
    "    for i in range(len(nodes)):\n",
    "        source = nodes[i]\n",
    "        \n",
    "        for j in range(i + 1, len(nodes)):\n",
    "            target = nodes[j]\n",
    "\n",
    "            has_edge = g.has_edge(source, target) or g.has_edge(target, source)\n",
    "            process_node_pair(source, target, has_edge)\n",
    "\n",
    "    ambiguities = {}\n",
    "\n",
    "    for node, attr in node_registers.items():\n",
    "        degree = g.degree(node)\n",
    "\n",
    "        if attr['nonNeighborsMet'] != 0:\n",
    "            ambiguity = (attr['entropyEdges'] + ((g.order() - degree) / attr['nonNeighborsMet']) * attr['entropyNonEdges']) / g.order()\n",
    "        else:\n",
    "            ambiguity = attr['entropyEdges'] / degree\n",
    "\n",
    "        ambiguities[node] = ambiguity\n",
    "\n",
    "    return partitions[0], ambiguities"
   ]
  },
  {
   "cell_type": "markdown",
   "id": "095a6a6a-23fc-40d3-bbdd-6aa7b13981a6",
   "metadata": {},
   "source": [
    "# Checking the network"
   ]
  },
  {
   "cell_type": "code",
   "execution_count": 6,
   "id": "c3d3bf7c-3a61-474d-9778-2c4589b986cb",
   "metadata": {},
   "outputs": [],
   "source": [
    "corpus = read_graphology_json('NETWORK_CorpusMedia_DEFACTO_medialab_SciencesPo_V1.json')\n",
    "erase_node_positions(corpus)"
   ]
  },
  {
   "cell_type": "code",
   "execution_count": 7,
   "id": "8b6bd737-97bb-4704-b2fb-3b24e580fdaf",
   "metadata": {},
   "outputs": [
    {
     "data": {
      "application/vnd.jupyter.widget-view+json": {
       "model_id": "bf338a4343f34e96ad6c8fd43e1e059b",
       "version_major": 2,
       "version_minor": 0
      },
      "text/plain": [
       "Sigma(nx.DiGraph with 732 nodes and 27,556 edges)"
      ]
     },
     "execution_count": 7,
     "metadata": {},
     "output_type": "execute_result"
    }
   ],
   "source": [
    "Sigma(corpus)"
   ]
  },
  {
   "cell_type": "markdown",
   "id": "18b1f574-f836-41c2-9a66-ccda51fe6508",
   "metadata": {},
   "source": [
    "# Computing weights for edges"
   ]
  },
  {
   "cell_type": "code",
   "execution_count": 8,
   "id": "d7f2358c-a9cc-4572-80ab-b3d89294a138",
   "metadata": {},
   "outputs": [],
   "source": [
    "# NOTE: I am duplicating the corpus to avoid messing with the Simmelian backbone later on\n",
    "weighted_corpus = read_graphology_json('NETWORK_CorpusMedia_DEFACTO_medialab_SciencesPo_V1.json')\n",
    "erase_node_positions(weighted_corpus)\n",
    "\n",
    "node_count_sums = {}\n",
    "\n",
    "for node in weighted_corpus:\n",
    "    node_count_sums[node] = weighted_corpus.degree(node, weight=\"count\")\n",
    "\n",
    "# NOTE: each edge will get a weight that is a proportion of hyperlinks sent divided by the total count\n",
    "# of hyperlinks sent by source entity\n",
    "for source, target, attr in weighted_corpus.edges.data():\n",
    "    attr[\"weight\"] = attr[\"count\"] / node_count_sums[source]\n",
    "\n",
    "# NOTE: this will be used later on\n",
    "normalized_weights = {((u, v) if u < v else (v, u)): 1 for u, v in weighted_corpus.edges()}"
   ]
  },
  {
   "cell_type": "code",
   "execution_count": null,
   "id": "2f21eac8-23aa-410c-b718-0d18a715a3a9",
   "metadata": {},
   "outputs": [],
   "source": [
    "weighted_corpus_communities, weighted_corpus_ambiguities = leiden_modularity_with_ambiguities(weighted_corpus, 50, weighted=True)"
   ]
  },
  {
   "cell_type": "code",
   "execution_count": null,
   "id": "6e71fe2f-540a-494a-aaf0-422af2357345",
   "metadata": {},
   "outputs": [],
   "source": [
    "Sigma(weighted_corpus, node_color=lambda n: -weighted_corpus_ambiguities[n], node_color_gradient=(\"yellow\", \"red\"))"
   ]
  },
  {
   "cell_type": "code",
   "execution_count": null,
   "id": "9d1d4b60-cdee-4e4c-b8a8-589294255eba",
   "metadata": {},
   "outputs": [],
   "source": [
    "SigmaGrid(\n",
    "    weighted_corpus,\n",
    "    default_node_border_color=\"white\",\n",
    "    node_size_range=(2, 10),\n",
    "    edge_color=\"weight\",\n",
    "    edge_color_gradient=['#ddd', 'black'],\n",
    "    edge_zindex=\"weight\",\n",
    "    views=[\n",
    "        {\"name\": \"Default colors\"},\n",
    "        {\"name\": \"Leiden Weighted Modularity\", \"node_color\": leiden_modularity(weighted_corpus, weighted=True)}\n",
    "    ]\n",
    ")"
   ]
  },
  {
   "cell_type": "markdown",
   "id": "cdcf5de3-16c0-4d9e-96ec-a7811dafc656",
   "metadata": {},
   "source": [
    "# Applying a Simmelian backbone"
   ]
  },
  {
   "cell_type": "code",
   "execution_count": null,
   "id": "aa9c1994-dad2-4b45-a479-6198847e6e56",
   "metadata": {},
   "outputs": [],
   "source": [
    "def directed_simmelian_redudancies(graph: nx.DiGraph, m: int, weights=None, direction: str = 'in'):\n",
    "    weights = triangular_strength(graph) if weights is None else weights\n",
    "\n",
    "    neighbor_fn = graph.predecessors if direction == 'in' else graph.successors\n",
    "\n",
    "    NN = {}\n",
    "\n",
    "    for node in graph:\n",
    "        weighted_neighbors = sorted(\n",
    "            [(neighbor, weights[(node, neighbor) if node < neighbor else (neighbor, node)]) for neighbor in neighbor_fn(node)],\n",
    "            key=lambda t: t[1],\n",
    "            reverse=True\n",
    "        )\n",
    "        best_neighbors = weighted_neighbors[:m]\n",
    "\n",
    "        # NOTE: ties must be included\n",
    "        if len(best_neighbors) < len(weighted_neighbors):\n",
    "            best_weight = best_neighbors[-1][1]\n",
    "            i = len(best_neighbors)\n",
    "\n",
    "            while i < len(weighted_neighbors):\n",
    "                n = weighted_neighbors[i]\n",
    "                \n",
    "                if n[1] == best_weight:\n",
    "                    best_neighbors.append(n)\n",
    "                else:\n",
    "                    break\n",
    "\n",
    "                i += 1\n",
    "        \n",
    "        NN[node] = set(n[0] for n in best_neighbors)\n",
    "\n",
    "    redundancies = {}\n",
    "\n",
    "    for n1, n2 in graph.edges():\n",
    "        if n1 > n2:\n",
    "            (n1, n2) = (n2, n1)\n",
    "        \n",
    "        r = intersection_size(NN[n1], NN[n2])\n",
    "        redundancies[(n1, n2)] = r\n",
    "\n",
    "    return redundancies"
   ]
  },
  {
   "cell_type": "code",
   "execution_count": null,
   "id": "8c1b7566-9051-414c-9547-13fadc2baeaf",
   "metadata": {},
   "outputs": [],
   "source": [
    "# NOTE: in the paper: m is the number of neighbors to consider when computing intersections\n",
    "# and n is the redundancy threshold to keep the edge\n",
    "def directed_simmelian_backbone(graph: nx.DiGraph, m: int, n: int, weights=None, direction: str = 'in', keep_connected: bool = False) -> nx.DiGraph:\n",
    "    redundancies = directed_simmelian_redudancies(graph, m=m, weights=weights, direction=direction)\n",
    "\n",
    "    umst = None\n",
    "\n",
    "    if keep_connected:\n",
    "        # NOTE: I am copying the graph to avoid pollutiong\n",
    "        copy = deepcopy(graph)\n",
    "\n",
    "        for source, target, attr in copy.edges.data():\n",
    "            if source > target:\n",
    "                source, target = target, source\n",
    "\n",
    "            attr[\"weight\"] = redundancies[source, target]\n",
    "\n",
    "        umst = set((u, v) for u, v, _ in union_of_maximum_spanning_trees(copy))\n",
    "\n",
    "    def edge_filter(source, target, attr) -> bool:\n",
    "        if umst is not None and (source, target) in umst:\n",
    "            return True\n",
    "            \n",
    "        if source > target:\n",
    "            source, target = target, source\n",
    "\n",
    "        return redundancies[source, target] > n\n",
    "\n",
    "    return filter_edges(graph, edge_filter)"
   ]
  },
  {
   "cell_type": "code",
   "execution_count": null,
   "id": "b85963d1-295b-44f1-94a8-9a6fc90fe36c",
   "metadata": {},
   "outputs": [],
   "source": [
    "# NOTE: increasing n means decreasing the number of edges in the result\n",
    "# NOTE: increasing m means modifying the number of neighbors taken into account when computing redundancies\n",
    "# NOTE: set keep_connected to True to avoid creating connected component by disconnecting nodes\n",
    "# NOTE: set direction to 'in' or 'out' to consider the relevant edges\n",
    "inbound_backbone = directed_simmelian_backbone(corpus, m=3, n=1, direction='in', keep_connected=True)"
   ]
  },
  {
   "cell_type": "code",
   "execution_count": null,
   "id": "78bed83c-1421-4d7b-8b9f-4e85b42443e6",
   "metadata": {},
   "outputs": [],
   "source": [
    "outbound_backbone = directed_simmelian_backbone(corpus, m=3, n=1, direction='out', keep_connected=True)"
   ]
  },
  {
   "cell_type": "code",
   "execution_count": null,
   "id": "b9d9ab69-27a4-4bcf-9951-f55fad6dc827",
   "metadata": {},
   "outputs": [],
   "source": [
    "# NOTE: it is possible to use our weighted version to compute edge redundancy, but I find it\n",
    "# weaker, because it is not tied to the graph's topology itself\n",
    "inbound_weighted_backbone = directed_simmelian_backbone(\n",
    "    weighted_corpus, m=3, n=1, keep_connected=False, direction='in',\n",
    "    weights=normalized_weights\n",
    ")"
   ]
  },
  {
   "cell_type": "code",
   "execution_count": null,
   "id": "4459908a-c680-4b8f-9d4a-8fddef8eadb9",
   "metadata": {},
   "outputs": [],
   "source": [
    "# TODO: try jaccard or else, try both neighborhoods, try uncertainty louvain, lire le papier original du backbone"
   ]
  },
  {
   "cell_type": "code",
   "execution_count": null,
   "id": "ff9aa97b-70c5-4cb3-9ed5-78b2aa80855c",
   "metadata": {},
   "outputs": [],
   "source": [
    "inbound_backbone_communities, inbound_backbone_ambiguities = leiden_modularity_with_ambiguities(inbound_backbone, 50)"
   ]
  },
  {
   "cell_type": "code",
   "execution_count": null,
   "id": "5d9dd70f-a5dd-42f6-ba19-5ac7af4ffb23",
   "metadata": {},
   "outputs": [],
   "source": [
    "Sigma(inbound_backbone, node_color=lambda n: -inbound_backbone_ambiguities[n], node_color_gradient='Plasma')"
   ]
  },
  {
   "cell_type": "code",
   "execution_count": null,
   "id": "88779172-ad0f-491f-9b78-df1dfa25ae4b",
   "metadata": {},
   "outputs": [],
   "source": [
    "SigmaGrid(\n",
    "    inbound_backbone,\n",
    "    default_node_border_color=\"black\",\n",
    "    node_size_range=(2, 10),\n",
    "    views=[\n",
    "        {\"name\": \"Default colors\"},\n",
    "        {\n",
    "            \"name\": \"Leiden Weighted Modularity\",\n",
    "            \"node_color\": inbound_backbone_communities,\n",
    "            \"node_color_saturation\": lambda n: -inbound_backbone_ambiguities[n],\n",
    "            \"node_color_saturation_scale\": \"log\"\n",
    "        }\n",
    "    ]\n",
    ")"
   ]
  },
  {
   "cell_type": "code",
   "execution_count": null,
   "id": "81092b81-5a33-464b-9e4d-1134901cab52",
   "metadata": {},
   "outputs": [],
   "source": [
    "outbound_backbone_communities, outbound_backbone_ambiguities = leiden_modularity_with_ambiguities(outbound_backbone, 50)"
   ]
  },
  {
   "cell_type": "code",
   "execution_count": null,
   "id": "c88ba787-2ebf-4c6a-a95c-1eb28cd96427",
   "metadata": {},
   "outputs": [],
   "source": [
    "SigmaGrid(\n",
    "    outbound_backbone,\n",
    "    default_node_border_color=\"white\",\n",
    "    node_size_range=(2, 10),\n",
    "    views=[\n",
    "        {\"name\": \"Default colors\"},\n",
    "        {\"name\": \"Leiden Weighted Modularity\", \"node_color\": outbound_backbone_communities, \"node_color_saturation\": lambda n: -outbound_backbone_ambiguities[n], \"node_color_saturation_scale\": \"log\"}\n",
    "    ]\n",
    ")"
   ]
  }
 ],
 "metadata": {
  "kernelspec": {
   "display_name": "Python 3 (ipykernel)",
   "language": "python",
   "name": "python3"
  },
  "language_info": {
   "codemirror_mode": {
    "name": "ipython",
    "version": 3
   },
   "file_extension": ".py",
   "mimetype": "text/x-python",
   "name": "python",
   "nbconvert_exporter": "python",
   "pygments_lexer": "ipython3",
   "version": "3.11.5"
  }
 },
 "nbformat": 4,
 "nbformat_minor": 5
}
