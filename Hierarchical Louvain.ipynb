{
 "cells": [
  {
   "cell_type": "markdown",
   "id": "4242d02a-dd36-4779-85a3-d2c8b2cfd5c6",
   "metadata": {},
   "source": [
    "# Hierarchical Louvain"
   ]
  },
  {
   "cell_type": "code",
   "execution_count": 68,
   "id": "3a97830a-9ca0-49d0-8d48-e4bae1469da8",
   "metadata": {},
   "outputs": [],
   "source": [
    "import math\n",
    "import networkx as nx\n",
    "import igraph as ig\n",
    "import leidenalg as la\n",
    "from ipysigma import Sigma, SigmaGrid\n",
    "from ebbe import partitioned_items\n",
    "from pelote import read_graphology_json\n",
    "\n",
    "Sigma.set_defaults(max_categorical_colors=25)"
   ]
  },
  {
   "cell_type": "code",
   "execution_count": 63,
   "id": "d1ee7ce2-422c-4d22-b7fa-08d21077b168",
   "metadata": {},
   "outputs": [],
   "source": [
    "corpus = read_graphology_json('eurosis.json')\n",
    "\n",
    "# for node, attr in corpus.nodes.data():\n",
    "#     del attr['x']\n",
    "#     del attr['y']\n",
    "#     del attr['color']"
   ]
  },
  {
   "cell_type": "markdown",
   "id": "7255e9e1-afef-4c1e-9f01-c1d4eae934df",
   "metadata": {},
   "source": [
    "## Top-down approach"
   ]
  },
  {
   "cell_type": "code",
   "execution_count": 61,
   "id": "e43f52f0-8662-44a8-b533-ebf5e52aa182",
   "metadata": {},
   "outputs": [],
   "source": [
    "def leiden_modularity(g: nx.Graph, weighted: bool = False):\n",
    "    ig_g = ig.Graph.from_networkx(g)\n",
    "\n",
    "    weights = None\n",
    "\n",
    "    if weighted:\n",
    "        weights = [w for _, _, w in g.edges(data=\"weight\")]\n",
    "    \n",
    "    partition = la.find_partition(ig_g, la.ModularityVertexPartition, weights=weights)\n",
    "    return {n: m for n, m in zip(g, partition._membership)}"
   ]
  },
  {
   "cell_type": "code",
   "execution_count": 62,
   "id": "106ac572-ec3e-4221-8d68-06f88db6b75b",
   "metadata": {},
   "outputs": [],
   "source": [
    "def hierarchical_leiden_modularity(g: nx.Graph):\n",
    "    first_level = leiden_modularity(g)\n",
    "    clusters = partitioned_items((v, k) for k, v in first_level.items())\n",
    "\n",
    "    threshold = math.ceil(math.sqrt(g.order())) * 2\n",
    "\n",
    "    result = {}\n",
    "    \n",
    "    for i, cluster in enumerate(clusters):\n",
    "        if len(cluster) < threshold:\n",
    "            for node in cluster:\n",
    "                result[node] = str(i)\n",
    "\n",
    "            continue\n",
    "        \n",
    "        subgraph = g.subgraph(cluster)\n",
    "        second_level = leiden_modularity(subgraph)\n",
    "\n",
    "        for j, sub_cluster in enumerate(partitioned_items((v, k) for k, v in second_level.items())):\n",
    "            if j < 2:\n",
    "                for node in sub_cluster:\n",
    "                    result[node] = str(i) + '_' + str(j)\n",
    "            else:\n",
    "                for node in sub_cluster:\n",
    "                    result[node] = str(i)\n",
    "\n",
    "        # for node, j in second_level.items():\n",
    "        #     result[node] = str(i) + '_' + str(j)\n",
    "\n",
    "    return result"
   ]
  },
  {
   "cell_type": "code",
   "execution_count": 69,
   "id": "d51c3402-b5bc-47b0-a6b1-2ec4129d23bb",
   "metadata": {},
   "outputs": [
    {
     "data": {
      "application/vnd.jupyter.widget-view+json": {
       "model_id": "73225844ca0f454caefdf3874f59f448",
       "version_major": 2,
       "version_minor": 0
      },
      "text/plain": [
       "VBox(children=(HBox(children=(Sigma(nx.MultiGraph with 1,285 nodes and 7,524 edges), Sigma(nx.MultiGraph with …"
      ]
     },
     "metadata": {},
     "output_type": "display_data"
    }
   ],
   "source": [
    "SigmaGrid(corpus, node_size=corpus.degree, views=[{\"name\": \"Top level\", \"node_color\": leiden_modularity(corpus)}, {\"name\": \"Bottom level\", \"node_color\": hierarchical_leiden_modularity(corpus)}])"
   ]
  },
  {
   "cell_type": "markdown",
   "id": "b3df0214-9b30-4d81-abe0-ff6d81d21757",
   "metadata": {},
   "source": [
    "## Bottom-up approach"
   ]
  },
  {
   "cell_type": "code",
   "execution_count": 55,
   "id": "36533de1-6fa3-4b17-85f2-e6fd2a87bbda",
   "metadata": {},
   "outputs": [
    {
     "data": {
      "text/plain": [
       "3"
      ]
     },
     "execution_count": 55,
     "metadata": {},
     "output_type": "execute_result"
    }
   ],
   "source": [
    "partitions = list(nx.community.louvain_partitions(corpus, resolution=1))\n",
    "len(partitions)"
   ]
  },
  {
   "cell_type": "code",
   "execution_count": 73,
   "id": "bc6a6ca5-3889-4bf5-9637-56f0016eec76",
   "metadata": {},
   "outputs": [
    {
     "data": {
      "application/vnd.jupyter.widget-view+json": {
       "model_id": "d2d61ddc04c44a97a89bba4d643e6c84",
       "version_major": 2,
       "version_minor": 0
      },
      "text/plain": [
       "VBox(children=(HBox(children=(Sigma(nx.MultiGraph with 1,285 nodes and 7,524 edges), Sigma(nx.MultiGraph with …"
      ]
     },
     "metadata": {},
     "output_type": "display_data"
    }
   ],
   "source": [
    "SigmaGrid(corpus, node_size=corpus.degree, views=[{\"name\": \"Level \" + str(i), \"node_color\": p} for i, p in enumerate(partitions)])"
   ]
  },
  {
   "cell_type": "markdown",
   "id": "2c37d101-718e-49cf-af38-2036dd2a46c3",
   "metadata": {},
   "source": [
    "## Comparison"
   ]
  },
  {
   "cell_type": "code",
   "execution_count": 77,
   "id": "519b4df9-15e5-42fa-a98b-bf640941833b",
   "metadata": {},
   "outputs": [],
   "source": [
    "other = read_graphology_json('NETWORK_CorpusMedia_DEFACTO_medialab_SciencesPo_V1.json')\n",
    "\n",
    "for node, attr in other.nodes.data():\n",
    "    del attr['x']\n",
    "    del attr['y']\n",
    "    del attr['color']\n",
    "\n",
    "other_partitions = list(nx.community.louvain_partitions(other, resolution=1))"
   ]
  },
  {
   "cell_type": "code",
   "execution_count": 79,
   "id": "78c755df-0c99-466b-9aae-44ed9595eae6",
   "metadata": {},
   "outputs": [
    {
     "data": {
      "text/plain": [
       "1"
      ]
     },
     "execution_count": 79,
     "metadata": {},
     "output_type": "execute_result"
    }
   ],
   "source": [
    "len(other_partitions)"
   ]
  },
  {
   "cell_type": "code",
   "execution_count": 78,
   "id": "9dd4921a-81f4-4a32-9b56-ef9890cfec0e",
   "metadata": {},
   "outputs": [
    {
     "data": {
      "application/vnd.jupyter.widget-view+json": {
       "model_id": "7efe9ba0e28b4430a906596346fdbd09",
       "version_major": 2,
       "version_minor": 0
      },
      "text/plain": [
       "VBox(children=(HBox(children=(Sigma(nx.DiGraph with 732 nodes and 27,556 edges), Sigma(nx.DiGraph with 732 nod…"
      ]
     },
     "metadata": {},
     "output_type": "display_data"
    }
   ],
   "source": [
    "SigmaGrid(other, node_size=other.degree, views=[{\"name\": \"Top-down\", \"node_color\": other_partitions[0]}, {\"name\": \"Bottom-up\", \"node_color\": hierarchical_leiden_modularity(other)}])"
   ]
  }
 ],
 "metadata": {
  "kernelspec": {
   "display_name": "Python 3 (ipykernel)",
   "language": "python",
   "name": "python3"
  },
  "language_info": {
   "codemirror_mode": {
    "name": "ipython",
    "version": 3
   },
   "file_extension": ".py",
   "mimetype": "text/x-python",
   "name": "python",
   "nbconvert_exporter": "python",
   "pygments_lexer": "ipython3",
   "version": "3.11.5"
  }
 },
 "nbformat": 4,
 "nbformat_minor": 5
}
