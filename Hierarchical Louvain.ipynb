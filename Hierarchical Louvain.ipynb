{
 "cells": [
  {
   "cell_type": "markdown",
   "id": "4242d02a-dd36-4779-85a3-d2c8b2cfd5c6",
   "metadata": {},
   "source": [
    "# Hierarchical Louvain"
   ]
  },
  {
   "cell_type": "code",
   "execution_count": 18,
   "id": "3a97830a-9ca0-49d0-8d48-e4bae1469da8",
   "metadata": {},
   "outputs": [],
   "source": [
    "import math\n",
    "import networkx as nx\n",
    "import igraph as ig\n",
    "import leidenalg as la\n",
    "from ipysigma import Sigma, SigmaGrid\n",
    "from ebbe import partitioned_items\n",
    "from pelote import read_graphology_json\n",
    "\n",
    "Sigma.set_defaults(max_categorical_colors=100)"
   ]
  },
  {
   "cell_type": "code",
   "execution_count": 88,
   "id": "d1ee7ce2-422c-4d22-b7fa-08d21077b168",
   "metadata": {},
   "outputs": [],
   "source": [
    "corpus = nx.Graph(read_graphology_json('eurosis.json'))\n",
    "                 \n",
    "# for node, attr in corpus.nodes.data():\n",
    "#     del attr['x']\n",
    "#     del attr['y']\n",
    "#     del attr['color']"
   ]
  },
  {
   "cell_type": "markdown",
   "id": "f15b06e9-8b21-4276-9f34-f7f0d25674ee",
   "metadata": {},
   "source": [
    "## Helpers"
   ]
  },
  {
   "cell_type": "code",
   "execution_count": 96,
   "id": "0e77f9aa-2038-4e9a-a781-cdcae12202c0",
   "metadata": {},
   "outputs": [],
   "source": [
    "def semi_induced_subgraph(graph, nodes, mapping=None):\n",
    "    ext = \"<EXT>\"\n",
    "\n",
    "    induced = graph.subgraph(nodes).copy()\n",
    "\n",
    "    for _, _, attr in induced.edges.data():\n",
    "        attr['weight'] = 1\n",
    "\n",
    "    for node in nodes:\n",
    "        for neighbor in graph.neighbors(node):\n",
    "            if neighbor in nodes:\n",
    "                continue\n",
    "\n",
    "            target = ext\n",
    "\n",
    "            if mapping is not None:\n",
    "                target = \"<EXT-\" + str(mapping[neighbor]) + \">\"\n",
    "\n",
    "            if induced.has_edge(node, target):\n",
    "                induced[node][target][\"weight\"] += 1\n",
    "            else:\n",
    "                induced.add_edge(node, target, weight=1)\n",
    "\n",
    "    return induced"
   ]
  },
  {
   "cell_type": "code",
   "execution_count": 108,
   "id": "96af99a6-c101-4e11-a78c-8c24d5178608",
   "metadata": {},
   "outputs": [
    {
     "data": {
      "application/vnd.jupyter.widget-view+json": {
       "model_id": "91419efb93204948b9caf2ae4ecef580",
       "version_major": 2,
       "version_minor": 0
      },
      "text/plain": [
       "Sigma(nx.Graph with 206 nodes and 1,445 edges)"
      ]
     },
     "execution_count": 108,
     "metadata": {},
     "output_type": "execute_result"
    }
   ],
   "source": [
    "_l = leiden_modularity(corpus)\n",
    "_g = partitioned_items(((v, k) for k, v in _l.items()), container=set)\n",
    "Sigma(\n",
    "    semi_induced_subgraph(corpus, max(_g, key=len), _l),\n",
    "    node_color=lambda u: \"EXT\" in u,\n",
    "    edge_color=\"weight\",\n",
    "    edge_zindex=\"weight\",\n",
    "    edge_color_gradient=('#ccc', 'black'),\n",
    "    node_size=corpus.degree\n",
    ")"
   ]
  },
  {
   "cell_type": "markdown",
   "id": "7255e9e1-afef-4c1e-9f01-c1d4eae934df",
   "metadata": {},
   "source": [
    "## Top-down approach"
   ]
  },
  {
   "cell_type": "code",
   "execution_count": 3,
   "id": "e43f52f0-8662-44a8-b533-ebf5e52aa182",
   "metadata": {},
   "outputs": [],
   "source": [
    "def leiden_modularity(g: nx.Graph, weighted: bool = False):\n",
    "    ig_g = ig.Graph.from_networkx(g)\n",
    "\n",
    "    weights = None\n",
    "\n",
    "    if weighted:\n",
    "        weights = [w for _, _, w in g.edges(data=\"weight\")]\n",
    "    \n",
    "    partition = la.find_partition(ig_g, la.ModularityVertexPartition, weights=weights)\n",
    "    return {n: m for n, m in zip(g, partition._membership)}"
   ]
  },
  {
   "cell_type": "code",
   "execution_count": 106,
   "id": "106ac572-ec3e-4221-8d68-06f88db6b75b",
   "metadata": {},
   "outputs": [],
   "source": [
    "def hierarchical_leiden_modularity(g: nx.Graph, keep_ext: bool = False):\n",
    "    first_level = leiden_modularity(g)\n",
    "    clusters = partitioned_items(((v, k) for k, v in first_level.items()), container=set)\n",
    "\n",
    "    threshold = math.ceil(math.log(g.order()))\n",
    "    threshold = 0\n",
    "\n",
    "    result = {}\n",
    "    \n",
    "    for i, cluster in enumerate(clusters):\n",
    "        if len(cluster) < threshold:\n",
    "            for node in cluster:\n",
    "                result[node] = str(i)\n",
    "\n",
    "            continue\n",
    "\n",
    "        if keep_ext:\n",
    "            subgraph = semi_induced_subgraph(g, cluster, first_level)\n",
    "            second_level = leiden_modularity(subgraph, weighted=True)\n",
    "        else:\n",
    "            subgraph = g.subgraph(cluster)\n",
    "            second_level = leiden_modularity(subgraph)\n",
    "\n",
    "        for j, sub_cluster in enumerate(partitioned_items((v, k) for k, v in second_level.items())):\n",
    "            if len(sub_cluster) > threshold:\n",
    "                for node in sub_cluster:\n",
    "                    result[node] = str(i) + '_' + str(j)\n",
    "            else:\n",
    "                for node in sub_cluster:\n",
    "                    result[node] = str(i)\n",
    "\n",
    "        # for node, j in second_level.items():\n",
    "        #     result[node] = str(i) + '_' + str(j)\n",
    "\n",
    "    return first_level, result"
   ]
  },
  {
   "cell_type": "code",
   "execution_count": 107,
   "id": "d51c3402-b5bc-47b0-a6b1-2ec4129d23bb",
   "metadata": {},
   "outputs": [
    {
     "data": {
      "application/vnd.jupyter.widget-view+json": {
       "model_id": "12f80d776bde43d594a3236c205b9027",
       "version_major": 2,
       "version_minor": 0
      },
      "text/plain": [
       "VBox(children=(HBox(children=(Sigma(nx.Graph with 1,285 nodes and 6,462 edges), Sigma(nx.Graph with 1,285 node…"
      ]
     },
     "metadata": {},
     "output_type": "display_data"
    }
   ],
   "source": [
    "hl = hierarchical_leiden_modularity(corpus)\n",
    "hlsi = hierarchical_leiden_modularity(corpus, True)\n",
    "\n",
    "SigmaGrid(\n",
    "    corpus,\n",
    "    node_size=corpus.degree,\n",
    "    views=[\n",
    "        {\"name\": \"Top level\", \"node_color\": leiden_modularity(corpus), \"default_node_border_color\": \"gray\"},\n",
    "        {\"name\": \"Bottom level\", \"node_color\": hl[1], \"default_node_border_color\": \"gray\"},\n",
    "        {\"name\": \"Bottom level semi-induced\", \"node_color\": hlsi[1], \"default_node_border_color\": \"gray\"}\n",
    "    ],\n",
    "    columns=3\n",
    ")"
   ]
  },
  {
   "cell_type": "markdown",
   "id": "b3df0214-9b30-4d81-abe0-ff6d81d21757",
   "metadata": {},
   "source": [
    "## Bottom-up approach"
   ]
  },
  {
   "cell_type": "code",
   "execution_count": 6,
   "id": "36533de1-6fa3-4b17-85f2-e6fd2a87bbda",
   "metadata": {},
   "outputs": [
    {
     "data": {
      "text/plain": [
       "3"
      ]
     },
     "execution_count": 6,
     "metadata": {},
     "output_type": "execute_result"
    }
   ],
   "source": [
    "partitions = list(nx.community.louvain_partitions(corpus, resolution=1))\n",
    "len(partitions)"
   ]
  },
  {
   "cell_type": "code",
   "execution_count": 7,
   "id": "bc6a6ca5-3889-4bf5-9637-56f0016eec76",
   "metadata": {},
   "outputs": [
    {
     "data": {
      "application/vnd.jupyter.widget-view+json": {
       "model_id": "b982e5c3ff1b4d7baaa48e34a3fbc86b",
       "version_major": 2,
       "version_minor": 0
      },
      "text/plain": [
       "VBox(children=(HBox(children=(Sigma(nx.MultiGraph with 1,285 nodes and 7,524 edges), Sigma(nx.MultiGraph with …"
      ]
     },
     "metadata": {},
     "output_type": "display_data"
    }
   ],
   "source": [
    "SigmaGrid(corpus, node_size=corpus.degree, views=[{\"name\": \"Level \" + str(i), \"node_color\": p} for i, p in enumerate(partitions)])"
   ]
  },
  {
   "cell_type": "markdown",
   "id": "2c37d101-718e-49cf-af38-2036dd2a46c3",
   "metadata": {},
   "source": [
    "## Comparison"
   ]
  },
  {
   "cell_type": "code",
   "execution_count": 8,
   "id": "519b4df9-15e5-42fa-a98b-bf640941833b",
   "metadata": {},
   "outputs": [],
   "source": [
    "other = read_graphology_json('NETWORK_CorpusMedia_DEFACTO_medialab_SciencesPo_V1.json')\n",
    "\n",
    "for node, attr in other.nodes.data():\n",
    "    del attr['x']\n",
    "    del attr['y']\n",
    "    del attr['color']\n",
    "\n",
    "other_partitions = list(nx.community.louvain_partitions(other, resolution=1))"
   ]
  },
  {
   "cell_type": "code",
   "execution_count": 9,
   "id": "78c755df-0c99-466b-9aae-44ed9595eae6",
   "metadata": {},
   "outputs": [
    {
     "data": {
      "text/plain": [
       "1"
      ]
     },
     "execution_count": 9,
     "metadata": {},
     "output_type": "execute_result"
    }
   ],
   "source": [
    "len(other_partitions)"
   ]
  },
  {
   "cell_type": "code",
   "execution_count": 112,
   "id": "0e1792ba-bf8b-46b4-b718-e62a7995cb87",
   "metadata": {},
   "outputs": [
    {
     "data": {
      "application/vnd.jupyter.widget-view+json": {
       "model_id": "c3f9f6a883424d36a82ada678f7c87ed",
       "version_major": 2,
       "version_minor": 0
      },
      "text/plain": [
       "VBox(children=(HBox(children=(Sigma(nx.DiGraph with 732 nodes and 27,556 edges), Sigma(nx.DiGraph with 732 nod…"
      ]
     },
     "metadata": {},
     "output_type": "display_data"
    }
   ],
   "source": [
    "h_other = hierarchical_leiden_modularity(other, True)\n",
    "\n",
    "SigmaGrid(\n",
    "    other,\n",
    "    node_size=other.degree,\n",
    "    views=[\n",
    "        {\"name\": \"Top Level\", \"node_color\": h_other[0]},\n",
    "        {\"name\": \"Bottom Level\", \"node_color\": h_other[1]}\n",
    "    ]\n",
    ")"
   ]
  },
  {
   "cell_type": "code",
   "execution_count": 110,
   "id": "9dd4921a-81f4-4a32-9b56-ef9890cfec0e",
   "metadata": {},
   "outputs": [
    {
     "data": {
      "application/vnd.jupyter.widget-view+json": {
       "model_id": "bff2c6f3408248548b9ab3c8c76e0874",
       "version_major": 2,
       "version_minor": 0
      },
      "text/plain": [
       "VBox(children=(HBox(children=(Sigma(nx.DiGraph with 732 nodes and 27,556 edges), Sigma(nx.DiGraph with 732 nod…"
      ]
     },
     "metadata": {},
     "output_type": "display_data"
    }
   ],
   "source": [
    "SigmaGrid(\n",
    "    other,\n",
    "    node_size=other.degree,\n",
    "    views=[\n",
    "        {\"name\": \"Top-down\", \"node_color\": other_partitions[0]},\n",
    "        {\"name\": \"Bottom-up\", \"node_color\": hierarchical_leiden_modularity(other)[0]}\n",
    "    ]\n",
    ")"
   ]
  }
 ],
 "metadata": {
  "kernelspec": {
   "display_name": "Python 3 (ipykernel)",
   "language": "python",
   "name": "python3"
  },
  "language_info": {
   "codemirror_mode": {
    "name": "ipython",
    "version": 3
   },
   "file_extension": ".py",
   "mimetype": "text/x-python",
   "name": "python",
   "nbconvert_exporter": "python",
   "pygments_lexer": "ipython3",
   "version": "3.9.5"
  }
 },
 "nbformat": 4,
 "nbformat_minor": 5
}
