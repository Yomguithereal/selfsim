{
 "cells": [
  {
   "cell_type": "code",
   "execution_count": 1,
   "id": "dd30f651-587a-4b54-bd10-de39fcc30e35",
   "metadata": {},
   "outputs": [],
   "source": [
    "import math\n",
    "import networkx as nx\n",
    "import igraph as ig\n",
    "import leidenalg as la\n",
    "from ipysigma import Sigma, SigmaGrid\n",
    "from pelote import filter_edges, triangular_strength, read_graphology_json, global_threshold_sparsification, multiscale_backbone, graph_to_edges_dataframe\n",
    "from pelote.graph import union_of_maximum_spanning_trees\n",
    "from heapq import nlargest\n",
    "from fog.metrics.utils import intersection_size\n",
    "from fog.metrics import jaccard_similarity\n",
    "from ebbe import partitioned_items\n",
    "from collections import Counter\n",
    "\n",
    "Sigma.set_defaults(max_categorical_colors=25)\n",
    "\n",
    "def wdist(g):\n",
    "    return graph_to_edges_dataframe(g).weight.plot.hist()"
   ]
  },
  {
   "cell_type": "markdown",
   "id": "1d416b02-93aa-4cab-83ec-d8d4b45b8d02",
   "metadata": {},
   "source": [
    "## Leiden utils"
   ]
  },
  {
   "cell_type": "code",
   "execution_count": 2,
   "id": "26dc779e-29d9-465e-85c1-40e7cb8d7965",
   "metadata": {},
   "outputs": [],
   "source": [
    "def leiden_modularity(g: nx.Graph, weighted: bool = False):\n",
    "    ig_g = ig.Graph.from_networkx(g)\n",
    "\n",
    "    weights = None\n",
    "\n",
    "    if weighted:\n",
    "        weights = [w for _, _, w in g.edges(data=\"weight\")]\n",
    "    \n",
    "    partition = la.find_partition(ig_g, la.ModularityVertexPartition, weights=weights)\n",
    "    return {n: m for n, m in zip(g, partition._membership)}"
   ]
  },
  {
   "cell_type": "code",
   "execution_count": 3,
   "id": "520b1787-fd8e-43d8-ac34-5ea6d21562f1",
   "metadata": {},
   "outputs": [],
   "source": [
    "def leiden_cpm(g: nx.Graph, resolution: float = 0.05):\n",
    "    ig_g = ig.Graph.from_networkx(g)\n",
    "    partition = la.find_partition(ig_g, la.CPMVertexPartition, resolution_parameter=resolution)\n",
    "    return {n: m for n, m in zip(g, partition._membership)}"
   ]
  },
  {
   "cell_type": "code",
   "execution_count": 5,
   "id": "62dd310e-c79a-442f-b4e0-651358f1c3ab",
   "metadata": {},
   "outputs": [],
   "source": [
    "def hierarchical_leiden_modularity(g: nx.Graph):\n",
    "    first_level = leiden_modularity(g)\n",
    "    clusters = partitioned_items((v, k) for k, v in first_level.items())\n",
    "\n",
    "    threshold = math.ceil(math.sqrt(g.order())) * 2\n",
    "\n",
    "    result = {}\n",
    "    \n",
    "    for i, cluster in enumerate(clusters):\n",
    "        if len(cluster) < threshold:\n",
    "            for node in cluster:\n",
    "                result[node] = str(i)\n",
    "\n",
    "            continue\n",
    "        \n",
    "        subgraph = g.subgraph(cluster)\n",
    "        second_level = leiden_modularity(subgraph)\n",
    "\n",
    "        for j, sub_cluster in enumerate(partitioned_items((v, k) for k, v in second_level.items())):\n",
    "            if j < 2:\n",
    "                for node in sub_cluster:\n",
    "                    result[node] = str(i) + '_' + str(j)\n",
    "            else:\n",
    "                for node in sub_cluster:\n",
    "                    result[node] = str(i)\n",
    "\n",
    "        # for node, j in second_level.items():\n",
    "        #     result[node] = str(i) + '_' + str(j)\n",
    "\n",
    "    return result"
   ]
  },
  {
   "cell_type": "markdown",
   "id": "a69b0237-2c86-4c20-9e4e-169d75bd7923",
   "metadata": {},
   "source": [
    "# Simmelian Backbones"
   ]
  },
  {
   "cell_type": "markdown",
   "id": "1a5de461-e5a0-4164-991b-e52982508e76",
   "metadata": {},
   "source": [
    "## Undirected case"
   ]
  },
  {
   "cell_type": "code",
   "execution_count": 10,
   "id": "a8d71957-3c17-4477-9624-01252259b61e",
   "metadata": {},
   "outputs": [],
   "source": [
    "def undirected_simmelian_redudancies(graph: nx.Graph, m: int = 3):\n",
    "    weights = triangular_strength(graph)\n",
    "\n",
    "    NN = {}\n",
    "\n",
    "    for node in graph:\n",
    "        weighted_neighbors = sorted(\n",
    "            [(neighbor, weights[(node, neighbor) if node < neighbor else (neighbor, node)]) for neighbor in graph.neighbors(node)],\n",
    "            key=lambda t: t[1],\n",
    "            reverse=True\n",
    "        )\n",
    "        best_neighbors = weighted_neighbors[:m]\n",
    "\n",
    "        # NOTE: ties must be included\n",
    "        if len(best_neighbors) < len(weighted_neighbors):\n",
    "            best_weight = best_neighbors[-1][1]\n",
    "            i = len(best_neighbors)\n",
    "\n",
    "            while i < len(weighted_neighbors):\n",
    "                n = weighted_neighbors[i]\n",
    "                \n",
    "                if n[1] == best_weight:\n",
    "                    best_neighbors.append(n)\n",
    "                else:\n",
    "                    break\n",
    "\n",
    "                i += 1\n",
    "        \n",
    "        NN[node] = [n[0] for n in best_neighbors]\n",
    "\n",
    "    redundancies = {}\n",
    "\n",
    "    for n1, n2 in graph.edges():\n",
    "        if n1 > n2:\n",
    "            (n1, n2) = (n2, n1)\n",
    "        \n",
    "        r = intersection_size(NN[n1], NN[n2])\n",
    "        redundancies[(n1, n2)] = r\n",
    "\n",
    "    return redundancies"
   ]
  },
  {
   "cell_type": "code",
   "execution_count": 11,
   "id": "672e4b35-b287-4510-8fba-083cdfa844f5",
   "metadata": {},
   "outputs": [],
   "source": [
    "def undirected_simmelian_projection(graph: nx.Graph, m: int = 3, t: int = 0, weights=None):\n",
    "    weights = triangular_strength(graph) if weights is None else weights\n",
    "\n",
    "    NN = {}\n",
    "    h = nx.Graph()\n",
    "\n",
    "    for node, attr in graph.nodes(data=True):\n",
    "        h.add_node(node, **attr)\n",
    "        \n",
    "        weighted_neighbors = sorted(\n",
    "            [(neighbor, weights[(node, neighbor) if node < neighbor else (neighbor, node)]) for neighbor in graph.neighbors(node)],\n",
    "            key=lambda t: t[1],\n",
    "            reverse=True\n",
    "        )\n",
    "        best_neighbors = weighted_neighbors[:m]\n",
    "\n",
    "        # NOTE: ties must be included\n",
    "        if len(best_neighbors) < len(weighted_neighbors):\n",
    "            best_weight = best_neighbors[-1][1]\n",
    "            i = len(best_neighbors)\n",
    "\n",
    "            while i < len(weighted_neighbors):\n",
    "                n = weighted_neighbors[i]\n",
    "                \n",
    "                if n[1] == best_weight:\n",
    "                    best_neighbors.append(n)\n",
    "                else:\n",
    "                    break\n",
    "\n",
    "                i += 1\n",
    "        \n",
    "        NN[node] = [n[0] for n in best_neighbors]\n",
    "\n",
    "    nodes = list(graph)\n",
    "\n",
    "    for i in range(len(nodes)):\n",
    "        n1 = nodes[i]\n",
    "        nn1 = NN[n1]\n",
    "        \n",
    "        for j in range(i + 1, len(nodes)):\n",
    "            n2 = nodes[j]\n",
    "            nn2 = NN[n2]\n",
    "\n",
    "            r = intersection_size(nn1, nn2)\n",
    "\n",
    "            if r > t:\n",
    "                h.add_edge(n1, n2, weight=r)\n",
    "\n",
    "    return h"
   ]
  },
  {
   "cell_type": "code",
   "execution_count": 12,
   "id": "6360c92b-9c5b-4b57-bf90-7ce55b0005c5",
   "metadata": {},
   "outputs": [],
   "source": [
    "def nth_order_undirected_simmelian_projection(graph, n: int, m: int = 3, t: int = 0):\n",
    "    h = graph\n",
    "\n",
    "    for _ in range(n):\n",
    "        h = undirected_simmelian_projection(h, m=m, t=t)\n",
    "\n",
    "    return h"
   ]
  },
  {
   "cell_type": "code",
   "execution_count": 13,
   "id": "e0a2a59f-5c26-4b73-8b5c-e8e3d7dd3faa",
   "metadata": {},
   "outputs": [],
   "source": [
    "g = nx.les_miserables_graph()"
   ]
  },
  {
   "cell_type": "code",
   "execution_count": 14,
   "id": "2da4be2e-5b91-4743-bc67-4640525a1c51",
   "metadata": {},
   "outputs": [],
   "source": [
    "g_redundancies = undirected_simmelian_redudancies(g, m=3)"
   ]
  },
  {
   "cell_type": "code",
   "execution_count": 15,
   "id": "645fee8e-5902-479e-887c-2014161ac233",
   "metadata": {},
   "outputs": [
    {
     "data": {
      "application/vnd.jupyter.widget-view+json": {
       "model_id": "65b2b542b4f94e709dd47856c63d9b7f",
       "version_major": 2,
       "version_minor": 0
      },
      "text/plain": [
       "Sigma(nx.Graph with 77 nodes and 254 edges)"
      ]
     },
     "execution_count": 15,
     "metadata": {},
     "output_type": "execute_result"
    }
   ],
   "source": [
    "Sigma(\n",
    "    g,\n",
    "    node_size=g.degree,\n",
    "    default_node_color=\"white\",\n",
    "    default_node_border_color=\"black\",\n",
    "    edge_color=g_redundancies,\n",
    "    edge_color_gradient=\"Plasma\",\n",
    "    edge_size=g_redundancies,\n",
    "    edge_size_range=(0.5, 5),\n",
    "    edge_weight=g_redundancies\n",
    ")"
   ]
  },
  {
   "cell_type": "code",
   "execution_count": 16,
   "id": "bed65c24-c9fd-4968-a842-6b6591394f09",
   "metadata": {},
   "outputs": [],
   "source": [
    "h = filter_edges(g, lambda u, v, _: g_redundancies[(u, v) if u < v else (v, u)] > 1)"
   ]
  },
  {
   "cell_type": "code",
   "execution_count": 17,
   "id": "544a774b-abc1-46c1-ac37-05dc5266c7fc",
   "metadata": {},
   "outputs": [
    {
     "data": {
      "application/vnd.jupyter.widget-view+json": {
       "model_id": "17dd34c092c04579804c8a87ebac259d",
       "version_major": 2,
       "version_minor": 0
      },
      "text/plain": [
       "Sigma(nx.Graph with 77 nodes and 151 edges)"
      ]
     },
     "execution_count": 17,
     "metadata": {},
     "output_type": "execute_result"
    }
   ],
   "source": [
    "Sigma(h)"
   ]
  },
  {
   "cell_type": "code",
   "execution_count": 43,
   "id": "bb2e927d-66ca-4eb3-9413-fc93b5ca3ae3",
   "metadata": {},
   "outputs": [],
   "source": [
    "p = nth_order_undirected_simmelian_projection(g, 2, m=3, t=0)"
   ]
  },
  {
   "cell_type": "code",
   "execution_count": 44,
   "id": "c26991c4-712f-41b9-a27f-0aeb60dc5e69",
   "metadata": {},
   "outputs": [
    {
     "data": {
      "application/vnd.jupyter.widget-view+json": {
       "model_id": "a6263ef3415243a6ad0475a9296adfd5",
       "version_major": 2,
       "version_minor": 0
      },
      "text/plain": [
       "Sigma(nx.Graph with 77 nodes and 1,358 edges)"
      ]
     },
     "execution_count": 44,
     "metadata": {},
     "output_type": "execute_result"
    }
   ],
   "source": [
    "w = Sigma(\n",
    "    p,\n",
    "    node_size=p.degree,\n",
    "    default_node_color=\"white\",\n",
    "    node_metrics=[\"louvain\"],\n",
    "    node_color=\"louvain\",\n",
    "    default_node_border_color=\"black\",\n",
    "    edge_color=\"weight\",\n",
    "    edge_color_gradient=\"Plasma\",\n",
    "    edge_size=\"weight\",\n",
    "    edge_size_range=(0.5, 5),\n",
    ")\n",
    "w"
   ]
  },
  {
   "cell_type": "code",
   "execution_count": 45,
   "id": "63e5f95a-d625-468a-9aaa-1f090395e087",
   "metadata": {},
   "outputs": [
    {
     "data": {
      "application/vnd.jupyter.widget-view+json": {
       "model_id": "043d06ca0466431787f4119bcfa94f00",
       "version_major": 2,
       "version_minor": 0
      },
      "text/plain": [
       "Sigma(nx.Graph with 77 nodes and 254 edges)"
      ]
     },
     "execution_count": 45,
     "metadata": {},
     "output_type": "execute_result"
    }
   ],
   "source": [
    "Sigma(g, node_size=g.degree, node_color=w.node_metrics[\"louvain\"][\"result\"])"
   ]
  },
  {
   "cell_type": "markdown",
   "id": "a315ca39-cdb0-47eb-a19a-6187d2b26103",
   "metadata": {},
   "source": [
    "## Directed case"
   ]
  },
  {
   "cell_type": "code",
   "execution_count": 31,
   "id": "52d8cbb9-f279-4cbf-99ca-d690ca27bf50",
   "metadata": {},
   "outputs": [],
   "source": [
    "def inbound_simmelian_redudancies(graph: nx.Graph, m: int = 3, weights=None):\n",
    "    weights = triangular_strength(graph) if weights is None else weights\n",
    "\n",
    "    NN = {}\n",
    "\n",
    "    for node in graph:\n",
    "        weighted_neighbors = sorted(\n",
    "            [(neighbor, weights[(node, neighbor) if node < neighbor else (neighbor, node)]) for neighbor in graph.predecessors(node)],\n",
    "            key=lambda t: t[1],\n",
    "            reverse=True\n",
    "        )\n",
    "        best_neighbors = weighted_neighbors[:m]\n",
    "\n",
    "        # NOTE: ties must be included\n",
    "        if len(best_neighbors) < len(weighted_neighbors):\n",
    "            best_weight = best_neighbors[-1][1]\n",
    "            i = len(best_neighbors)\n",
    "\n",
    "            while i < len(weighted_neighbors):\n",
    "                n = weighted_neighbors[i]\n",
    "                \n",
    "                if n[1] == best_weight:\n",
    "                    best_neighbors.append(n)\n",
    "                else:\n",
    "                    break\n",
    "\n",
    "                i += 1\n",
    "        \n",
    "        NN[node] = [n[0] for n in best_neighbors]\n",
    "\n",
    "    redundancies = {}\n",
    "\n",
    "    for n1, n2 in graph.edges():\n",
    "        if n1 > n2:\n",
    "            (n1, n2) = (n2, n1)\n",
    "        \n",
    "        r = intersection_size(NN[n1], NN[n2])\n",
    "        redundancies[(n1, n2)] = r\n",
    "\n",
    "    return redundancies"
   ]
  },
  {
   "cell_type": "code",
   "execution_count": 19,
   "id": "59d599ea-6ddb-4c9b-8152-48a869c7aba0",
   "metadata": {},
   "outputs": [],
   "source": [
    "def inbound_simmelian_projection(graph: nx.Graph, m: int = 3, t: int = 0, weights=None):\n",
    "    weights = triangular_strength(graph) if weights is None else weights\n",
    "\n",
    "    NN = {}\n",
    "    h = nx.Graph()\n",
    "\n",
    "    for node, attr in graph.nodes(data=True):\n",
    "        h.add_node(node, **attr)\n",
    "        \n",
    "        weighted_neighbors = sorted(\n",
    "            [(neighbor, weights[(node, neighbor) if node < neighbor else (neighbor, node)]) for neighbor in graph.predecessors(node)],\n",
    "            key=lambda t: t[1],\n",
    "            reverse=True\n",
    "        )\n",
    "        best_neighbors = weighted_neighbors[:m]\n",
    "\n",
    "        # NOTE: ties must be included\n",
    "        if len(best_neighbors) < len(weighted_neighbors):\n",
    "            best_weight = best_neighbors[-1][1]\n",
    "            i = len(best_neighbors)\n",
    "\n",
    "            while i < len(weighted_neighbors):\n",
    "                n = weighted_neighbors[i]\n",
    "                \n",
    "                if n[1] == best_weight:\n",
    "                    best_neighbors.append(n)\n",
    "                else:\n",
    "                    break\n",
    "\n",
    "                i += 1\n",
    "        \n",
    "        NN[node] = [n[0] for n in best_neighbors]\n",
    "\n",
    "    nodes = list(graph)\n",
    "\n",
    "    for i in range(len(nodes)):\n",
    "        n1 = nodes[i]\n",
    "        nn1 = NN[n1]\n",
    "        \n",
    "        for j in range(i + 1, len(nodes)):\n",
    "            n2 = nodes[j]\n",
    "            nn2 = NN[n2]\n",
    "\n",
    "            r = intersection_size(nn1, nn2)\n",
    "\n",
    "            if r > t:\n",
    "                h.add_edge(n1, n2, weight=r)\n",
    "\n",
    "    return h"
   ]
  },
  {
   "cell_type": "code",
   "execution_count": 20,
   "id": "80097bc8-7921-4669-806f-1f8fb9c5f1ee",
   "metadata": {},
   "outputs": [],
   "source": [
    "def nth_order_inbound_simmelian_projection(graph, n: int, m: int = 3, t: int = 0):\n",
    "    h = inbound_simmelian_projection(graph, m=m, t=t, weights={((u, v) if u < v else (v, u)): 1 for u, v in graph.edges()})\n",
    "\n",
    "    for _ in range(n - 1):\n",
    "        h = undirected_simmelian_projection(h, m=m, t=t, weights={((u, v) if u < v else (v, u)): w for u, v, w in h.edges.data(\"weight\")})\n",
    "\n",
    "    return h"
   ]
  },
  {
   "cell_type": "code",
   "execution_count": 21,
   "id": "8b86d736-e35e-47c3-87dc-faaaebc760bc",
   "metadata": {},
   "outputs": [],
   "source": [
    "corpus = read_graphology_json(\"./polarisation.json\")"
   ]
  },
  {
   "cell_type": "code",
   "execution_count": 32,
   "id": "43292e94-63d9-48e8-acb5-b34ac42ef011",
   "metadata": {},
   "outputs": [],
   "source": [
    "redundancies = inbound_simmelian_redudancies(corpus, m=3)"
   ]
  },
  {
   "cell_type": "code",
   "execution_count": 23,
   "id": "6dd0af52-6d35-4c3e-9fd5-7bbfac9a7bb4",
   "metadata": {},
   "outputs": [
    {
     "data": {
      "application/vnd.jupyter.widget-view+json": {
       "model_id": "f7265840938f4702bb28e2a141ed4a7d",
       "version_major": 2,
       "version_minor": 0
      },
      "text/plain": [
       "Sigma(nx.Graph with 420 nodes and 18,903 edges)"
      ]
     },
     "execution_count": 23,
     "metadata": {},
     "output_type": "execute_result"
    }
   ],
   "source": [
    "Sigma(corpus.to_undirected(), edge_color=redundancies, edge_zindex=redundancies, edge_color_gradient=[\"rgba(0, 0, 0, 0.05)\", \"darkgray\"], edge_weight=redundancies, default_node_border_color=\"black\", default_node_color=\"white\")"
   ]
  },
  {
   "cell_type": "code",
   "execution_count": 33,
   "id": "da6f86e7-7a5d-4510-b186-4a8deb87079a",
   "metadata": {},
   "outputs": [],
   "source": [
    "sparse_corpus = filter_edges(corpus, lambda u, v, _: redundancies[(u, v) if u < v else (v, u)] > 1)"
   ]
  },
  {
   "cell_type": "code",
   "execution_count": 36,
   "id": "75918e45-c37a-4354-a78b-48be3944a8f9",
   "metadata": {},
   "outputs": [
    {
     "data": {
      "application/vnd.jupyter.widget-view+json": {
       "model_id": "1bf8ce4169a14f1598c0619bd6843bfc",
       "version_major": 2,
       "version_minor": 0
      },
      "text/plain": [
       "VBox(children=(HBox(children=(Sigma(nx.DiGraph with 420 nodes and 5,793 edges), Sigma(nx.DiGraph with 420 node…"
      ]
     },
     "metadata": {},
     "output_type": "display_data"
    }
   ],
   "source": [
    "# NOTE: should we apply cluster discretization or read as a map?\n",
    "SigmaGrid(sparse_corpus, node_size=sparse_corpus.in_degree, default_node_border_color=\"white\", node_size_range=(2, 10), views=[\n",
    "    {\"name\": \"Leiden\", \"node_metrics\": [\"louvain\"], \"node_color\": \"louvain\"},\n",
    "    {\"name\": \"HLeiden\", \"node_color\": hierarchical_leiden_modularity(sparse_corpus)},\n",
    "    {\"name\": \"CPM\", \"node_color\": leiden_cpm(sparse_corpus, 0.05)},\n",
    "    {\"name\": \"Wheel\", \"node_color\": \"wheel_category\"},\n",
    "    {\"name\": \"SubWheel\", \"node_color\": \"wheel_subcategory\"}\n",
    "], columns=3)"
   ]
  },
  {
   "cell_type": "code",
   "execution_count": 25,
   "id": "7250ab46-5383-435c-8b10-3608d6aa522d",
   "metadata": {},
   "outputs": [],
   "source": [
    "# NOTE: changement de phase à partir de 4?\n",
    "projected_corpus = nth_order_inbound_simmelian_projection(corpus, 1)"
   ]
  },
  {
   "cell_type": "code",
   "execution_count": 26,
   "id": "6efe9e71-1056-4589-9b06-6eb596be649c",
   "metadata": {},
   "outputs": [
    {
     "data": {
      "application/vnd.jupyter.widget-view+json": {
       "model_id": "1c27cd161c63407db5fb9f3eedc909a7",
       "version_major": 2,
       "version_minor": 0
      },
      "text/plain": [
       "Sigma(nx.Graph with 420 nodes and 80,055 edges)"
      ]
     },
     "execution_count": 26,
     "metadata": {},
     "output_type": "execute_result"
    }
   ],
   "source": [
    "Sigma(projected_corpus, node_size=corpus.in_degree, default_node_border_color=\"white\", node_color=\"wheel_subcategory\")"
   ]
  },
  {
   "cell_type": "markdown",
   "id": "b5e1789e-61ec-43be-bd76-e5c8cd610ec0",
   "metadata": {},
   "source": [
    "## Polarisation weights"
   ]
  },
  {
   "cell_type": "code",
   "execution_count": 6,
   "id": "f9b48b78-dc49-4f75-a3b2-9963d7bbdfdf",
   "metadata": {},
   "outputs": [
    {
     "data": {
      "text/plain": [
       "<Axes: ylabel='Frequency'>"
      ]
     },
     "execution_count": 6,
     "metadata": {},
     "output_type": "execute_result"
    },
    {
     "data": {
      "image/png": "[encoded data removed]",
      "text/plain": [
       "<Figure size 640x480 with 1 Axes>"
      ]
     },
     "metadata": {},
     "output_type": "display_data"
    }
   ],
   "source": [
    "weighted_corpus = read_graphology_json('./polarisation.json')\n",
    "\n",
    "totals = Counter()\n",
    "\n",
    "for u in weighted_corpus:\n",
    "    totals[u] = sum(w for _, _, w in weighted_corpus.out_edges(u, data=\"count\"))\n",
    "\n",
    "for u, v, a in weighted_corpus.edges.data():\n",
    "    a[\"weight\"] = a[\"count\"] / totals[u]\n",
    "\n",
    "wdist(weighted_corpus)"
   ]
  },
  {
   "cell_type": "code",
   "execution_count": 37,
   "id": "0830baad-5f00-4610-a0bc-dc1f8c33b53e",
   "metadata": {},
   "outputs": [
    {
     "data": {
      "application/vnd.jupyter.widget-view+json": {
       "model_id": "0a51e38489ef4e718f6d4ccabe3e6c80",
       "version_major": 2,
       "version_minor": 0
      },
      "text/plain": [
       "Sigma(nx.DiGraph with 420 nodes and 20,935 edges)"
      ]
     },
     "execution_count": 37,
     "metadata": {},
     "output_type": "execute_result"
    }
   ],
   "source": [
    "Sigma(\n",
    "    global_threshold_sparsification(weighted_corpus, 0.00), # 0.05 works also\n",
    "    node_size=weighted_corpus.in_degree(weight=\"weight\"),\n",
    "    node_color=leiden_modularity(weighted_corpus, weighted=True), node_metrics=[\"louvain\"],\n",
    "    edge_color=\"weight\",\n",
    "    edge_color_gradient=['#ddd', 'black'],\n",
    "    edge_color_scale=\"sqrt\",\n",
    "    edge_zindex=\"weight\",\n",
    "    default_node_border_color=\"white\"\n",
    ")"
   ]
  }
 ],
 "metadata": {
  "kernelspec": {
   "display_name": "Python 3 (ipykernel)",
   "language": "python",
   "name": "python3"
  },
  "language_info": {
   "codemirror_mode": {
    "name": "ipython",
    "version": 3
   },
   "file_extension": ".py",
   "mimetype": "text/x-python",
   "name": "python",
   "nbconvert_exporter": "python",
   "pygments_lexer": "ipython3",
   "version": "3.11.5"
  }
 },
 "nbformat": 4,
 "nbformat_minor": 5
}
