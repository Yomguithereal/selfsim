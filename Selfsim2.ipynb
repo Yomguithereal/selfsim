{
 "cells": [
  {
   "cell_type": "code",
   "execution_count": 172,
   "id": "b6fe86cb-369f-4b14-8031-c27a00513fc9",
   "metadata": {},
   "outputs": [],
   "source": [
    "import math\n",
    "import networkx as nx\n",
    "import igraph as ig\n",
    "import leidenalg as la\n",
    "from ipysigma import Sigma, SigmaGrid\n",
    "from pelote import graph_to_edges_dataframe, read_graphology_json, multiscale_backbone, floatsam_threshold_learner, global_threshold_sparsification\n",
    "from pelote.classes import BFSQueue\n",
    "from pelote.projection import bfs_from_node as bfs_from_node_directed\n",
    "from fog.metrics import jaccard_similarity, cosine_similarity\n",
    "\n",
    "Sigma.set_defaults(max_categorical_colors=25)"
   ]
  },
  {
   "cell_type": "code",
   "execution_count": 2,
   "id": "f9df3fb6-3762-40c5-a609-aa83ff466fa2",
   "metadata": {},
   "outputs": [],
   "source": [
    "def bfs_from_node(graph, source, limit=1):\n",
    "    queue = BFSQueue(graph)\n",
    "    queue.append(source, (source, 0))\n",
    "\n",
    "    while len(queue) != 0:\n",
    "        node, depth = queue.popleft()\n",
    "        \n",
    "        if depth > 0:\n",
    "            yield node, depth\n",
    "\n",
    "        if depth >= limit:\n",
    "            continue\n",
    "\n",
    "        for neighbor in graph.neighbors(node):\n",
    "            if neighbor == source:\n",
    "                continue\n",
    "                \n",
    "            queue.append(neighbor, (neighbor, depth + 1))"
   ]
  },
  {
   "cell_type": "code",
   "execution_count": 7,
   "id": "0dd98b63-d533-4467-826c-d64d914264cd",
   "metadata": {},
   "outputs": [],
   "source": [
    "def wdist(g):\n",
    "    return graph_to_edges_dataframe(g).weight.plot.hist()"
   ]
  },
  {
   "cell_type": "code",
   "execution_count": 203,
   "id": "c6fc5c15-09c8-4e51-a2cf-c646a8daa82c",
   "metadata": {},
   "outputs": [],
   "source": [
    "def directed_selfsim(g: nx.DiGraph, k=10, depth=2) -> nx.Graph:\n",
    "    h = nx.Graph()\n",
    "    # k = math.ceil(math.log2(len(g)))\n",
    "\n",
    "    vectors = {}\n",
    "\n",
    "    for n1 in g:\n",
    "        v = set()\n",
    "\n",
    "        for n2, d in bfs_from_node_directed(g, n1, limit=depth):\n",
    "            v.add((True, n2, d))\n",
    "\n",
    "        for n2, d in bfs_from_node_directed(g, n1, limit=depth, reverse=True):\n",
    "            v.add((False, n2, d))\n",
    "\n",
    "        vectors[n1] = v\n",
    "\n",
    "    nodes = list(vectors)\n",
    "\n",
    "    for i in range(len(nodes)):\n",
    "        n1 = nodes[i]\n",
    "        h.add_node(n1, label=g.nodes[n1].get(\"label\"))\n",
    "        v1 = vectors[n1]\n",
    "\n",
    "        candidates = []\n",
    "\n",
    "        for j in range(i + 1, len(nodes)):\n",
    "            n2 = nodes[j]\n",
    "\n",
    "            # if g.has_edge(n1, n2):\n",
    "            #     continue\n",
    "            \n",
    "            v2 = vectors[n2]\n",
    "\n",
    "            u = set()\n",
    "            i = set()\n",
    "\n",
    "            v1l = 0\n",
    "            v2l = 0\n",
    "\n",
    "            for n in v1:\n",
    "                if n[1] == n2:\n",
    "                    continue\n",
    "\n",
    "                u.add(n)\n",
    "                v1l += 1\n",
    "\n",
    "                if n in v2:\n",
    "                    i.add(n)\n",
    "\n",
    "            for n in v2:\n",
    "                if n[1] == n1:\n",
    "                    continue\n",
    "\n",
    "                v2l += 1\n",
    "                u.add(n)\n",
    "\n",
    "            s = len(i) / min(v1l, v2l)\n",
    "\n",
    "            if s > 0:\n",
    "                candidates.append((s, n2))\n",
    "\n",
    "        for s, n2 in sorted(candidates, reverse=True)[:k]:\n",
    "            h.add_edge(n1, n2, weight=s)\n",
    "            \n",
    "    return h"
   ]
  },
  {
   "cell_type": "code",
   "execution_count": 50,
   "id": "6ec05b3c-39b9-4202-bf8b-7dab87b9bda5",
   "metadata": {},
   "outputs": [
    {
     "data": {
      "text/plain": [
       "(7, 49.845238095238095)"
      ]
     },
     "execution_count": 50,
     "metadata": {},
     "output_type": "execute_result"
    }
   ],
   "source": [
    "math.ceil(math.log(len(corpus))), corpus.size() / corpus.order()"
   ]
  },
  {
   "cell_type": "code",
   "execution_count": 8,
   "id": "9cc697fd-114f-4138-9376-f2ec4b843524",
   "metadata": {},
   "outputs": [],
   "source": [
    "corpus = read_graphology_json(\"./polarisation.json\")"
   ]
  },
  {
   "cell_type": "code",
   "execution_count": 204,
   "id": "ee79c961-10db-4c9b-a889-3a2063a0cb8a",
   "metadata": {},
   "outputs": [],
   "source": [
    "# 7\n",
    "h_corpus = directed_selfsim(corpus, k=7, depth=1)\n",
    "backup = h_corpus"
   ]
  },
  {
   "cell_type": "code",
   "execution_count": 173,
   "id": "9b84577f-05b7-4ac3-9d10-eee6063ec30b",
   "metadata": {},
   "outputs": [],
   "source": [
    "h_corpus = backup"
   ]
  },
  {
   "cell_type": "code",
   "execution_count": 177,
   "id": "a0280c49-945b-4fc7-bb3d-bc38558daa37",
   "metadata": {},
   "outputs": [
    {
     "data": {
      "text/plain": [
       "0.6500000000000004"
      ]
     },
     "execution_count": 177,
     "metadata": {},
     "output_type": "execute_result"
    }
   ],
   "source": [
    "threshold = floatsam_threshold_learner(h_corpus)\n",
    "threshold"
   ]
  },
  {
   "cell_type": "code",
   "execution_count": 168,
   "id": "ae9d3585-ea17-4049-a58d-533754d56099",
   "metadata": {},
   "outputs": [],
   "source": [
    "h_corpus = multiscale_backbone(h_corpus, alpha=0.2, keep_connected=False)"
   ]
  },
  {
   "cell_type": "code",
   "execution_count": 179,
   "id": "26d3a436-1deb-423c-929e-f2f9ccdde524",
   "metadata": {},
   "outputs": [],
   "source": [
    "h_corpus = global_threshold_sparsification(h_corpus, threshold)"
   ]
  },
  {
   "cell_type": "code",
   "execution_count": 205,
   "id": "9cd75198-0fa8-4a3a-ab92-55f39203a9e0",
   "metadata": {},
   "outputs": [
    {
     "data": {
      "text/plain": [
       "<Axes: ylabel='Frequency'>"
      ]
     },
     "execution_count": 205,
     "metadata": {},
     "output_type": "execute_result"
    },
    {
     "data": {
      "image/png": "[encoded data removed]",
      "text/plain": [
       "<Figure size 640x480 with 1 Axes>"
      ]
     },
     "metadata": {},
     "output_type": "display_data"
    }
   ],
   "source": [
    "wdist(h_corpus)"
   ]
  },
  {
   "cell_type": "code",
   "execution_count": 207,
   "id": "5580c997-52a0-4342-98a7-b5e3f1f7dfbb",
   "metadata": {},
   "outputs": [
    {
     "data": {
      "text/plain": [
       "<leidenalg.VertexPartition.CPMVertexPartition at 0x77503a029390>"
      ]
     },
     "execution_count": 207,
     "metadata": {},
     "output_type": "execute_result"
    }
   ],
   "source": [
    "ig_h_corpus = ig.Graph.from_networkx(h_corpus)\n",
    "partition = la.find_partition(ig_h_corpus, la.CPMVertexPartition, resolution_parameter=0.08)\n",
    "partition"
   ]
  },
  {
   "cell_type": "code",
   "execution_count": 157,
   "id": "8d863ea3-537e-4e8c-bd26-b3cff56b43aa",
   "metadata": {},
   "outputs": [],
   "source": [
    "def louvain(g: nx.Graph):\n",
    "    ig_g = ig.Graph.from_networkx(g)\n",
    "    partition = la.find_partition(ig_g, la.ModularityVertexPartition)\n",
    "    return {n: m for n, m in zip(g, partition._membership)}"
   ]
  },
  {
   "cell_type": "code",
   "execution_count": 208,
   "id": "af4c26c7-764b-483b-8318-4e48f3a94e2d",
   "metadata": {},
   "outputs": [
    {
     "data": {
      "application/vnd.jupyter.widget-view+json": {
       "model_id": "302fbb6340c74c529ef7b2152d17a17d",
       "version_major": 2,
       "version_minor": 0
      },
      "text/plain": [
       "VBox(children=(HBox(children=(Sigma(nx.Graph with 420 nodes and 2,910 edges), Sigma(nx.Graph with 420 nodes an…"
      ]
     },
     "metadata": {},
     "output_type": "display_data"
    }
   ],
   "source": [
    "w = SigmaGrid(\n",
    "    h_corpus,\n",
    "    node_size=corpus.degree,\n",
    "    default_node_border_size=1,\n",
    "    default_node_border_color=\"white\",\n",
    "    views=[\n",
    "        {\"name\": \"louvain\", \"node_color\": louvain(h_corpus)},\n",
    "        {\"name\": \"leiden\", \"node_color\": partition},\n",
    "        {\"name\": \"sbm\", \"node_color\": lambda u: corpus.nodes[u][\"wheel_subcategory\"]}\n",
    "    ],\n",
    "    edge_size=\"weight\",\n",
    "    edge_size_range=(0.5, 3),\n",
    "    show_all_labels=False,\n",
    "    columns=3\n",
    ")\n",
    "w"
   ]
  },
  {
   "cell_type": "code",
   "execution_count": 209,
   "id": "150b9b2d-d793-456b-a8ef-658cbd17e2a9",
   "metadata": {},
   "outputs": [
    {
     "data": {
      "application/vnd.jupyter.widget-view+json": {
       "model_id": "590fca0bbc944fcc895cb326aa8b8f01",
       "version_major": 2,
       "version_minor": 0
      },
      "text/plain": [
       "VBox(children=(HBox(children=(Sigma(nx.DiGraph with 420 nodes and 20,935 edges), Sigma(nx.DiGraph with 420 nod…"
      ]
     },
     "metadata": {},
     "output_type": "display_data"
    }
   ],
   "source": [
    "SigmaGrid(corpus, node_size=corpus.degree, node_label_size=corpus.degree, node_label_size_range=(4, 12), views=[\n",
    "    {\"node_color\": {n: m for n, m in zip(h_corpus, partition._membership)}, \"name\": \"Selfsim\"},\n",
    "    {\"node_color\": \"louvain\", \"node_metrics\": [\"louvain\"], \"name\": \"Louvain\"},\n",
    "    {\"node_color\": \"wheel_subcategory\", \"name\": \"Wheel\"},\n",
    "], default_node_border_color=\"white\", columns=3)"
   ]
  },
  {
   "cell_type": "code",
   "execution_count": 73,
   "id": "6ab0ae07-93e8-4358-a930-0bdf1545d5f6",
   "metadata": {},
   "outputs": [],
   "source": [
    "def undirected_selfsim(g: nx.Graph, k=10, depth=2) -> nx.Graph:\n",
    "    h = nx.Graph()\n",
    "    # k = math.ceil(math.log2(len(g)))\n",
    "\n",
    "    vectors = {}\n",
    "\n",
    "    for n1 in g:\n",
    "        v = set()\n",
    "\n",
    "        for t in bfs_from_node(g, n1, limit=depth):\n",
    "            v.add(t)\n",
    "\n",
    "        vectors[n1] = v\n",
    "\n",
    "    nodes = list(vectors)\n",
    "\n",
    "    for i in range(len(nodes)):\n",
    "        n1 = nodes[i]\n",
    "        h.add_node(n1, label=g.nodes[n1].get(\"label\"))\n",
    "        v1 = vectors[n1]\n",
    "\n",
    "        candidates = []\n",
    "\n",
    "        for j in range(i + 1, len(nodes)):\n",
    "            n2 = nodes[j]\n",
    "\n",
    "            # if g.has_edge(n1, n2):\n",
    "            #     continue\n",
    "            \n",
    "            v2 = vectors[n2]\n",
    "\n",
    "            u = set()\n",
    "            i = set()\n",
    "\n",
    "            for n in v1:\n",
    "                if n[0] == n2:\n",
    "                    continue\n",
    "\n",
    "                u.add(n)\n",
    "\n",
    "                if n in v2:\n",
    "                    i.add(n)\n",
    "\n",
    "            for n in v2:\n",
    "                if n[0] == n1:\n",
    "                    continue\n",
    "\n",
    "                u.add(n)\n",
    "\n",
    "            if len(u) == 0:\n",
    "                continue\n",
    "\n",
    "            s = len(i) / len(u)\n",
    "\n",
    "            if s > 0:\n",
    "                candidates.append((s, n2))\n",
    "\n",
    "        for s, n2 in sorted(candidates, reverse=True)[:k]:\n",
    "            h.add_edge(n1, n2, weight=s)\n",
    "            \n",
    "    return h"
   ]
  },
  {
   "cell_type": "code",
   "execution_count": 74,
   "id": "2bc39c31-5f20-42cc-9dab-ddd5a9966381",
   "metadata": {},
   "outputs": [],
   "source": [
    "eurosis = read_graphology_json(\"./eurosis.json\")"
   ]
  },
  {
   "cell_type": "code",
   "execution_count": 75,
   "id": "0ff63522-003e-48b0-9bc2-3c6807ec580e",
   "metadata": {},
   "outputs": [
    {
     "data": {
      "text/plain": [
       "1285"
      ]
     },
     "execution_count": 75,
     "metadata": {},
     "output_type": "execute_result"
    }
   ],
   "source": [
    "simple = nx.Graph()\n",
    "\n",
    "for node, a in eurosis.nodes(data=True):\n",
    "    simple.add_node(node, **a)\n",
    "\n",
    "for u, v in eurosis.edges():\n",
    "    simple.add_edge(u, v)\n",
    "\n",
    "eurosis = simple\n",
    "eurosis.order()"
   ]
  },
  {
   "cell_type": "code",
   "execution_count": 83,
   "id": "59cf6890-36bb-47b1-9819-4b75edf31d44",
   "metadata": {},
   "outputs": [],
   "source": [
    "h_eurosis = undirected_selfsim(eurosis, depth=3)"
   ]
  },
  {
   "cell_type": "code",
   "execution_count": 84,
   "id": "d6982a48-ef8d-413c-b37c-e5033a088823",
   "metadata": {},
   "outputs": [
    {
     "data": {
      "text/plain": [
       "<Axes: ylabel='Frequency'>"
      ]
     },
     "execution_count": 84,
     "metadata": {},
     "output_type": "execute_result"
    },
    {
     "data": {
      "image/png": "[encoded data removed]",
      "text/plain": [
       "<Figure size 640x480 with 1 Axes>"
      ]
     },
     "metadata": {},
     "output_type": "display_data"
    }
   ],
   "source": [
    "wdist(h_eurosis)"
   ]
  },
  {
   "cell_type": "code",
   "execution_count": 85,
   "id": "3e6ec829-c42b-489f-a47d-4af54bcc407e",
   "metadata": {},
   "outputs": [
    {
     "data": {
      "application/vnd.jupyter.widget-view+json": {
       "model_id": "e56a111b9beb4ad08f530f26150d9751",
       "version_major": 2,
       "version_minor": 0
      },
      "text/plain": [
       "Sigma(nx.Graph with 1,285 nodes and 12,667 edges)"
      ]
     },
     "execution_count": 85,
     "metadata": {},
     "output_type": "execute_result"
    }
   ],
   "source": [
    "w = Sigma(\n",
    "    h_eurosis,\n",
    "    node_size=eurosis.degree,\n",
    "    default_node_border_size=1,\n",
    "    default_node_border_color=\"white\",\n",
    "    node_color=\"louvain\",\n",
    "    node_metrics=[{\"name\": \"louvain\", \"resolution\": 1.2}],\n",
    "    edge_size=\"weight\",\n",
    "    edge_size_range=(0.5, 3),\n",
    ")\n",
    "w"
   ]
  },
  {
   "cell_type": "code",
   "execution_count": 86,
   "id": "bbd5a75a-c4c1-4474-934a-0ad70fa412ee",
   "metadata": {},
   "outputs": [
    {
     "data": {
      "application/vnd.jupyter.widget-view+json": {
       "model_id": "5c5df69a388e48f5b7462949ab22aff7",
       "version_major": 2,
       "version_minor": 0
      },
      "text/plain": [
       "VBox(children=(HBox(children=(Sigma(nx.Graph with 1,285 nodes and 6,462 edges), Sigma(nx.Graph with 1,285 node…"
      ]
     },
     "metadata": {},
     "output_type": "display_data"
    }
   ],
   "source": [
    "SigmaGrid(eurosis, node_size=eurosis.degree, views=[\n",
    "    {\"node_color\": w.node_metrics[\"louvain\"][\"result\"], \"name\": \"Selfsim\"},\n",
    "    {\"node_color\": \"louvain\", \"node_metrics\": [\"louvain\"], \"name\": \"Louvain\"},\n",
    "], default_node_border_color=\"black\", columns=3)"
   ]
  }
 ],
 "metadata": {
  "kernelspec": {
   "display_name": "Python 3 (ipykernel)",
   "language": "python",
   "name": "python3"
  },
  "language_info": {
   "codemirror_mode": {
    "name": "ipython",
    "version": 3
   },
   "file_extension": ".py",
   "mimetype": "text/x-python",
   "name": "python",
   "nbconvert_exporter": "python",
   "pygments_lexer": "ipython3",
   "version": "3.11.5"
  }
 },
 "nbformat": 4,
 "nbformat_minor": 5
}
