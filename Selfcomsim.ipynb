{
 "cells": [
  {
   "cell_type": "code",
   "execution_count": 64,
   "id": "bdc21942-c035-428e-836e-95f4785e1917",
   "metadata": {},
   "outputs": [],
   "source": [
    "import math\n",
    "import networkx as nx\n",
    "import igraph as ig\n",
    "import leidenalg as la\n",
    "from copy import deepcopy\n",
    "from pelote import read_graphology_json, triangular_strength, filter_edges\n",
    "from pelote.graph import union_of_maximum_spanning_trees\n",
    "from ipysigma import Sigma, SigmaGrid\n",
    "from fog.metrics import sparse_cosine_similarity\n",
    "from fog.metrics.utils import intersection_size\n",
    "from collections import defaultdict, Counter\n",
    "\n",
    "Sigma.set_defaults(max_categorical_colors=25)"
   ]
  },
  {
   "cell_type": "markdown",
   "id": "f168fbfe-028e-4212-9bd6-777958c00211",
   "metadata": {},
   "source": [
    "# Self similarity using communities"
   ]
  },
  {
   "cell_type": "markdown",
   "id": "1e8ef458-fa03-4841-a55b-aaca3ae52d96",
   "metadata": {},
   "source": [
    "## Leiden helpers"
   ]
  },
  {
   "cell_type": "code",
   "execution_count": 105,
   "id": "ad422397-0da8-4ec9-814e-74dd2c362621",
   "metadata": {},
   "outputs": [],
   "source": [
    "def leiden_modularity(g: nx.Graph, weighted: bool = False):\n",
    "    ig_g = ig.Graph.from_networkx(g)\n",
    "\n",
    "    weights = None\n",
    "\n",
    "    if weighted:\n",
    "        weights = [float(w) for _, _, w in g.edges(data=\"weight\")]\n",
    "    \n",
    "    partition = la.find_partition(ig_g, la.ModularityVertexPartition, weights=weights)\n",
    "    return {n: m for n, m in zip(g, partition._membership)}"
   ]
  },
  {
   "cell_type": "code",
   "execution_count": 106,
   "id": "357b45aa-f6b7-436c-828f-0b46efa14e5e",
   "metadata": {},
   "outputs": [],
   "source": [
    "def leiden_cpm(g: nx.Graph, weighted: bool = False, resolution: float = 0.05):\n",
    "    ig_g = ig.Graph.from_networkx(g)\n",
    "\n",
    "    weights = None\n",
    "\n",
    "    if weighted:\n",
    "        weights = [float(w) for _, _, w in g.edges(data=\"weight\")]\n",
    "    \n",
    "    partition = la.find_partition(ig_g, la.CPMVertexPartition, weights=weights, resolution_parameter=resolution)\n",
    "    return {n: m for n, m in zip(g, partition._membership)}"
   ]
  },
  {
   "cell_type": "code",
   "execution_count": 138,
   "id": "c5c64cd1-625b-4091-840b-d1cfd98b5dd9",
   "metadata": {},
   "outputs": [],
   "source": [
    "def leiden_abstract(g: nx.Graph, method, weighted: bool = False):\n",
    "    ig_g = ig.Graph.from_networkx(g)\n",
    "\n",
    "    weights = None\n",
    "\n",
    "    if weighted:\n",
    "        weights = [float(w) for _, _, w in g.edges(data=\"weight\")]\n",
    "    \n",
    "    partition = la.find_partition(ig_g, method, weights=weights)\n",
    "    return {n: m for n, m in zip(g, partition._membership)}"
   ]
  },
  {
   "cell_type": "code",
   "execution_count": 139,
   "id": "770e9b0c-19ee-4c29-9151-ba2c13c11cb4",
   "metadata": {},
   "outputs": [],
   "source": [
    "def leiden_abstract_resolution(g: nx.Graph, method, weighted: bool = False, resolution: float = 0.05):\n",
    "    ig_g = ig.Graph.from_networkx(g)\n",
    "\n",
    "    weights = None\n",
    "\n",
    "    if weighted:\n",
    "        weights = [float(w) for _, _, w in g.edges(data=\"weight\")]\n",
    "    \n",
    "    partition = la.find_partition(ig_g, method, weights=weights, resolution_parameter=resolution)\n",
    "    return {n: m for n, m in zip(g, partition._membership)}"
   ]
  },
  {
   "cell_type": "markdown",
   "id": "2b6685a4-415c-441d-9958-fb1b9a9a69b8",
   "metadata": {},
   "source": [
    "## Les misérables"
   ]
  },
  {
   "cell_type": "code",
   "execution_count": 46,
   "id": "37800b1b-c674-46d2-89d9-3b95e1ee6ba7",
   "metadata": {},
   "outputs": [],
   "source": [
    "# Here we project by considering each node as a weighted vector of neighboring communities\n",
    "def selfcomsim(g, direction: str = 'all', keep_own_community: bool = True) -> nx.Graph:\n",
    "    partition = leiden_modularity(g)\n",
    "    projection = nx.Graph()\n",
    "\n",
    "    neighbor_fn = g.neighbors\n",
    "\n",
    "    if direction == 'out':\n",
    "        neighbor_fn = g.successors\n",
    "    elif direction == 'in':\n",
    "        neighbor_fn = g.predecessors\n",
    "\n",
    "    vectors = {}\n",
    "\n",
    "    for node, attr in g.nodes.data():\n",
    "        projection.add_node(node, **attr)\n",
    "        vector = Counter()\n",
    "        own_community = partition[node]\n",
    "\n",
    "        # NOTE: should we drop own community?\n",
    "        for neighbor in neighbor_fn(node):\n",
    "            community = partition[neighbor]\n",
    "\n",
    "            if not keep_own_community and community == own_community:\n",
    "                continue    \n",
    "            \n",
    "            vector[community] += 1\n",
    "\n",
    "        vectors[node] = vector\n",
    "\n",
    "    nodes = list(g)\n",
    "\n",
    "    for i in range(len(nodes)):\n",
    "        n1 = nodes[i]\n",
    "        v1 = vectors[n1]\n",
    "        \n",
    "        for j in range(i + 1, len(nodes)):\n",
    "            n2 = nodes[j]  \n",
    "            v2 = vectors[n2]\n",
    "\n",
    "            w = sparse_cosine_similarity(v1, v2)\n",
    "\n",
    "            if w > 0:\n",
    "                projection.add_edge(n1, n2, weight=w)\n",
    "\n",
    "    return projection"
   ]
  },
  {
   "cell_type": "code",
   "execution_count": 5,
   "id": "3ef5188d-b866-43fe-aac5-16f51ad2ea21",
   "metadata": {},
   "outputs": [],
   "source": [
    "miserables = nx.les_miserables_graph()"
   ]
  },
  {
   "cell_type": "code",
   "execution_count": 14,
   "id": "42789177-1414-4d8e-9732-9b36fbba65b6",
   "metadata": {},
   "outputs": [
    {
     "data": {
      "application/vnd.jupyter.widget-view+json": {
       "model_id": "3bf8a621209b4fc9a763c0de6e451e01",
       "version_major": 2,
       "version_minor": 0
      },
      "text/plain": [
       "Sigma(nx.Graph with 77 nodes and 254 edges)"
      ]
     },
     "execution_count": 14,
     "metadata": {},
     "output_type": "execute_result"
    }
   ],
   "source": [
    "Sigma(miserables, node_color=leiden_modularity(miserables), node_size=miserables.degree)"
   ]
  },
  {
   "cell_type": "code",
   "execution_count": 50,
   "id": "27684f0e-8e49-4c53-a2bb-ae5907a2a9b1",
   "metadata": {},
   "outputs": [],
   "source": [
    "miserables_projection = selfcomsim(miserables, keep_own_community=True)"
   ]
  },
  {
   "cell_type": "code",
   "execution_count": 48,
   "id": "90d90d22-1e44-4326-84f7-1a258ad138ba",
   "metadata": {},
   "outputs": [
    {
     "data": {
      "application/vnd.jupyter.widget-view+json": {
       "model_id": "1b19e79aa390452ba585f1ece0594745",
       "version_major": 2,
       "version_minor": 0
      },
      "text/plain": [
       "Sigma(nx.Graph with 77 nodes and 425 edges)"
      ]
     },
     "execution_count": 48,
     "metadata": {},
     "output_type": "execute_result"
    }
   ],
   "source": [
    "Sigma(miserables_projection, node_size=miserables.degree, node_color=leiden_modularity(miserables_projection))"
   ]
  },
  {
   "cell_type": "code",
   "execution_count": 49,
   "id": "e337719b-da62-4287-97c3-e7ab28667a2b",
   "metadata": {},
   "outputs": [
    {
     "data": {
      "application/vnd.jupyter.widget-view+json": {
       "model_id": "008ab697fc9d4e9bb219fc6fdce15f6f",
       "version_major": 2,
       "version_minor": 0
      },
      "text/plain": [
       "VBox(children=(HBox(children=(Sigma(nx.Graph with 77 nodes and 254 edges), Sigma(nx.Graph with 77 nodes and 25…"
      ]
     },
     "metadata": {},
     "output_type": "display_data"
    }
   ],
   "source": [
    "SigmaGrid(miserables, node_size=miserables.degree, views=[\n",
    "    {\"name\": \"Normal\", \"node_color\": leiden_modularity(miserables)},\n",
    "    {\"name\": \"Projection\", \"node_color\": leiden_modularity(miserables_projection)}\n",
    "])"
   ]
  },
  {
   "cell_type": "markdown",
   "id": "ec659756-91d7-4ee3-9998-33d4ff1ff67f",
   "metadata": {
    "jp-MarkdownHeadingCollapsed": true
   },
   "source": [
    "## EuroSiS"
   ]
  },
  {
   "cell_type": "code",
   "execution_count": 24,
   "id": "6e6ebdc4-bbb0-4299-9dcb-311fc619aeae",
   "metadata": {},
   "outputs": [],
   "source": [
    "eurosis = read_graphology_json('./eurosis.json')"
   ]
  },
  {
   "cell_type": "code",
   "execution_count": 53,
   "id": "6a7672a9-f851-4f89-b82c-3fd05ccbeb04",
   "metadata": {},
   "outputs": [],
   "source": [
    "eurosis_projection = selfcomsim(eurosis, keep_own_community=True)"
   ]
  },
  {
   "cell_type": "code",
   "execution_count": 54,
   "id": "7fce8f4f-cee2-41f3-9f55-7acd357a0453",
   "metadata": {},
   "outputs": [
    {
     "data": {
      "application/vnd.jupyter.widget-view+json": {
       "model_id": "0da3fee3dd134f08ae4fd7badea1960b",
       "version_major": 2,
       "version_minor": 0
      },
      "text/plain": [
       "VBox(children=(HBox(children=(Sigma(nx.MultiGraph with 1,285 nodes and 7,524 edges), Sigma(nx.MultiGraph with …"
      ]
     },
     "metadata": {},
     "output_type": "display_data"
    }
   ],
   "source": [
    "SigmaGrid(eurosis, node_size=eurosis.degree, views=[\n",
    "    {\"name\": \"Normal\", \"node_color\": leiden_modularity(eurosis)},\n",
    "    {\"name\": \"Projection\", \"node_color\": leiden_modularity(eurosis_projection)}\n",
    "])"
   ]
  },
  {
   "cell_type": "markdown",
   "id": "2a0c7899-af41-4f84-bc12-fa3e02e96d04",
   "metadata": {},
   "source": [
    "## Polarisation"
   ]
  },
  {
   "cell_type": "code",
   "execution_count": 55,
   "id": "2f5daad7-db40-438e-9805-77501ecb3456",
   "metadata": {},
   "outputs": [],
   "source": [
    "corpus = read_graphology_json('./NETWORK_CorpusMedia_DEFACTO_medialab_SciencesPo_V1.json')\n",
    "\n",
    "for node, attr in corpus.nodes.data():\n",
    "    del attr['x']\n",
    "    del attr['y']\n",
    "    del attr['color']"
   ]
  },
  {
   "cell_type": "code",
   "execution_count": 126,
   "id": "7c8b61e4-efc6-490c-bf84-353672f1121a",
   "metadata": {},
   "outputs": [],
   "source": [
    "corpus_projection = selfcomsim(corpus, direction='out', keep_own_community=False)"
   ]
  },
  {
   "cell_type": "code",
   "execution_count": 127,
   "id": "05729285-bbd2-48e7-ada2-4e67f13915b6",
   "metadata": {},
   "outputs": [
    {
     "data": {
      "application/vnd.jupyter.widget-view+json": {
       "model_id": "91376fb4538a4ae3ab9f8ee168d14807",
       "version_major": 2,
       "version_minor": 0
      },
      "text/plain": [
       "VBox(children=(HBox(children=(Sigma(nx.DiGraph with 732 nodes and 27,556 edges), Sigma(nx.DiGraph with 732 nod…"
      ]
     },
     "metadata": {},
     "output_type": "display_data"
    }
   ],
   "source": [
    "SigmaGrid(corpus, node_size=corpus.degree, views=[\n",
    "    {\"name\": \"Normal\", \"node_color\": leiden_modularity(corpus)},\n",
    "    {\"name\": \"Projection\", \"node_color\": leiden_modularity(corpus_projection)}\n",
    "])"
   ]
  },
  {
   "cell_type": "code",
   "execution_count": 143,
   "id": "49f70945-3ce4-4724-86e9-b913b9b8f9ff",
   "metadata": {},
   "outputs": [
    {
     "data": {
      "application/vnd.jupyter.widget-view+json": {
       "model_id": "93c147a036a34a54a03754c5139ef2bd",
       "version_major": 2,
       "version_minor": 0
      },
      "text/plain": [
       "VBox(children=(HBox(children=(Sigma(nx.DiGraph with 732 nodes and 27,556 edges), Sigma(nx.DiGraph with 732 nod…"
      ]
     },
     "metadata": {},
     "output_type": "display_data"
    }
   ],
   "source": [
    "SigmaGrid(\n",
    "    corpus,\n",
    "    node_size=corpus.degree,\n",
    "    views=[\n",
    "        # {\"name\": \"Modularity\", \"node_color\": leiden_abstract(corpus, la.ModularityVertexPartition)},\n",
    "        {\"name\": \"CPM\", \"node_color\": leiden_abstract_resolution(corpus, la.CPMVertexPartition, resolution=0.5)},\n",
    "        {\"name\": \"Surprise\", \"node_color\": leiden_abstract(corpus, la.SurpriseVertexPartition)},\n",
    "        {\"name\": \"Significance\", \"node_color\": leiden_abstract(corpus, la.SignificanceVertexPartition)},\n",
    "        {\"name\": \"RBConfig\", \"node_color\": leiden_abstract(corpus, la.RBConfigurationVertexPartition)},\n",
    "        {\"name\": \"RBER\", \"node_color\": leiden_abstract(corpus, la.RBERVertexPartition)}\n",
    "    ]\n",
    ")"
   ]
  },
  {
   "cell_type": "markdown",
   "id": "3a8afea8-b3eb-4387-9b96-cf3d315808ab",
   "metadata": {
    "jp-MarkdownHeadingCollapsed": true
   },
   "source": [
    "## Self-similarity projection of induced community graph"
   ]
  },
  {
   "cell_type": "code",
   "execution_count": 107,
   "id": "39bba0dc-bde3-49fd-847f-dc62472ecfa7",
   "metadata": {},
   "outputs": [],
   "source": [
    "# NOTE: here we project the weighted community graph instead\n",
    "def comselfsim(g, direction: str = 'all', resolution: float = 0.05):\n",
    "    partition = leiden_cpm(g, resolution=resolution)\n",
    "    projection = nx.Graph()\n",
    "\n",
    "    neighbor_fn = g.neighbors\n",
    "\n",
    "    if direction == 'out':\n",
    "        neighbor_fn = g.successors\n",
    "    elif direction == 'in':\n",
    "        neighbor_fn = g.predecessors\n",
    "\n",
    "    community_vectors = defaultdict(Counter)\n",
    "\n",
    "    for node in g:\n",
    "        community = partition[node]\n",
    "\n",
    "        for neighbor in neighbor_fn(node):\n",
    "            neighbor_community = partition[neighbor]\n",
    "\n",
    "            community_vectors[community][neighbor_community] += 1\n",
    "\n",
    "    communities = list(community_vectors)\n",
    "\n",
    "    for i in range(len(communities)):        \n",
    "        c1 = communities[i]\n",
    "        v1 = community_vectors[c1]\n",
    "        for j in range(i + 1, len(communities)):\n",
    "            c2 = communities[j]\n",
    "            v2 = community_vectors[c2]\n",
    "            w = sparse_cosine_similarity(v1, v2)\n",
    "\n",
    "            if w > 0:\n",
    "                projection.add_edge(c1, c2, weight=w)\n",
    "\n",
    "    projection_partition = leiden_modularity(projection, weighted=True)\n",
    "\n",
    "    return {node: projection_partition.get(partition[node], None) for node in g}"
   ]
  },
  {
   "cell_type": "code",
   "execution_count": 109,
   "id": "2f747394-8dda-44ce-8005-ca878ff6693d",
   "metadata": {},
   "outputs": [],
   "source": [
    "def test(g, direction: str = 'all', resolution: float = 0.05):\n",
    "    return Sigma(g, node_color=comselfsim(g, direction=direction, resolution=resolution), node_size=g.degree)"
   ]
  },
  {
   "cell_type": "code",
   "execution_count": 124,
   "id": "a65209fb-94b3-4c8f-b84f-8d710b29dbdb",
   "metadata": {},
   "outputs": [
    {
     "data": {
      "application/vnd.jupyter.widget-view+json": {
       "model_id": "1fc8a59c9cf743ff91000719a56242d9",
       "version_major": 2,
       "version_minor": 0
      },
      "text/plain": [
       "Sigma(nx.DiGraph with 732 nodes and 27,556 edges)"
      ]
     },
     "execution_count": 124,
     "metadata": {},
     "output_type": "execute_result"
    }
   ],
   "source": [
    "test(corpus, resolution=50, direction='out')"
   ]
  }
 ],
 "metadata": {
  "kernelspec": {
   "display_name": "Python 3 (ipykernel)",
   "language": "python",
   "name": "python3"
  },
  "language_info": {
   "codemirror_mode": {
    "name": "ipython",
    "version": 3
   },
   "file_extension": ".py",
   "mimetype": "text/x-python",
   "name": "python",
   "nbconvert_exporter": "python",
   "pygments_lexer": "ipython3",
   "version": "3.11.5"
  }
 },
 "nbformat": 4,
 "nbformat_minor": 5
}
