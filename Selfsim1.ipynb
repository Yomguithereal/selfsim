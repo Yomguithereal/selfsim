{
 "cells": [
  {
   "cell_type": "code",
   "execution_count": 1,
   "id": "b6fe86cb-369f-4b14-8031-c27a00513fc9",
   "metadata": {},
   "outputs": [],
   "source": [
    "import math\n",
    "import networkx as nx\n",
    "from ipysigma import Sigma, SigmaGrid\n",
    "from pelote import graph_to_edges_dataframe, read_graphology_json\n",
    "from pelote.classes import BFSQueue\n",
    "from pelote.projection import bfs_from_node as bfs_from_node_directed\n",
    "from fog.metrics import jaccard_similarity, cosine_similarity"
   ]
  },
  {
   "cell_type": "code",
   "execution_count": 2,
   "id": "f9df3fb6-3762-40c5-a609-aa83ff466fa2",
   "metadata": {},
   "outputs": [],
   "source": [
    "def bfs_from_node(graph, source, limit=1):\n",
    "    queue = BFSQueue(graph)\n",
    "    queue.append(source, (source, 0))\n",
    "\n",
    "    while len(queue) != 0:\n",
    "        node, depth = queue.popleft()\n",
    "        \n",
    "        if depth > 0:\n",
    "            yield node, depth\n",
    "\n",
    "        if depth >= limit:\n",
    "            continue\n",
    "\n",
    "        for neighbor in graph.neighbors(node):\n",
    "            if neighbor == source:\n",
    "                continue\n",
    "                \n",
    "            queue.append(neighbor, (neighbor, depth + 1))"
   ]
  },
  {
   "cell_type": "code",
   "execution_count": 3,
   "id": "0dd98b63-d533-4467-826c-d64d914264cd",
   "metadata": {},
   "outputs": [],
   "source": [
    "def wdist(g):\n",
    "    return graph_to_edges_dataframe(g).weight.plot.hist()"
   ]
  },
  {
   "cell_type": "code",
   "execution_count": 4,
   "id": "3098906b-9c59-445e-a6fd-df0c3902970a",
   "metadata": {},
   "outputs": [],
   "source": [
    "g = nx.les_miserables_graph()"
   ]
  },
  {
   "cell_type": "code",
   "execution_count": 5,
   "id": "15eabaf3-d20d-4931-9b43-2db4ed4701f4",
   "metadata": {},
   "outputs": [
    {
     "data": {
      "application/vnd.jupyter.widget-view+json": {
       "model_id": "ac6e1690dfb64fcbb4d77d3530288292",
       "version_major": 2,
       "version_minor": 0
      },
      "text/plain": [
       "Sigma(nx.Graph with 77 nodes and 254 edges)"
      ]
     },
     "execution_count": 5,
     "metadata": {},
     "output_type": "execute_result"
    }
   ],
   "source": [
    "Sigma(g, node_size=g.degree, node_color=\"louvain\", node_metrics=[\"louvain\"])"
   ]
  },
  {
   "cell_type": "code",
   "execution_count": 6,
   "id": "b0dd1b73-4113-4eb2-a117-347e87cb5f3d",
   "metadata": {},
   "outputs": [],
   "source": [
    "def selfsim(g: nx.Graph) -> nx.Graph:\n",
    "    h = nx.Graph()\n",
    "    # k = math.ceil(math.log2(len(g)))\n",
    "\n",
    "    vectors = {}\n",
    "\n",
    "    for n1 in g:\n",
    "        vectors[n1] = {n: w for _, n, w in g.edges(n1, data=\"weight\", default=1)}\n",
    "\n",
    "    nodes = list(vectors)\n",
    "\n",
    "    for i in range(len(nodes)):\n",
    "        n1 = nodes[i]\n",
    "        h.add_node(n1, label=g.nodes[n1].get(\"label\"))\n",
    "        v1 = vectors[n1]\n",
    "\n",
    "        candidates = []\n",
    "        \n",
    "        for j in range(i + 1, len(nodes)):\n",
    "            n2 = nodes[j]\n",
    "            v2 = vectors[n2]\n",
    "            s = cosine_similarity(v1, v2)\n",
    "\n",
    "            if s > 0:\n",
    "                candidates.append((s, n2))\n",
    "\n",
    "        for s, n2 in sorted((c for c in candidates if not g.has_edge(n1, c[1])), reverse=True):\n",
    "            h.add_edge(n1, n2, weight=s)\n",
    "            \n",
    "    return h"
   ]
  },
  {
   "cell_type": "code",
   "execution_count": 7,
   "id": "4cb35fac-ee76-4f1b-9353-2daf93255b5e",
   "metadata": {},
   "outputs": [],
   "source": [
    "def nth_order_selfsim(g, n=3):\n",
    "    h = g\n",
    "\n",
    "    for _ in range(n):\n",
    "        h = selfsim(h)\n",
    "\n",
    "    return h"
   ]
  },
  {
   "cell_type": "code",
   "execution_count": 29,
   "id": "eebeefa2-24c5-4e31-bbe7-8e91649d34c1",
   "metadata": {},
   "outputs": [],
   "source": [
    "h = undirected_selfsim(g, k=100, depth=2)"
   ]
  },
  {
   "cell_type": "code",
   "execution_count": 24,
   "id": "d9e8ab02-d617-4d2a-8b06-927209f44495",
   "metadata": {},
   "outputs": [
    {
     "data": {
      "text/plain": [
       "5"
      ]
     },
     "execution_count": 24,
     "metadata": {},
     "output_type": "execute_result"
    }
   ],
   "source": [
    "nx.diameter(g)"
   ]
  },
  {
   "cell_type": "code",
   "execution_count": 17,
   "id": "fe9d7f47-2905-431c-b8d7-225330ebdbe0",
   "metadata": {},
   "outputs": [
    {
     "data": {
      "text/plain": [
       "<Axes: ylabel='Frequency'>"
      ]
     },
     "execution_count": 17,
     "metadata": {},
     "output_type": "execute_result"
    },
    {
     "data": {
      "image/png": "[encoded data removed]",
      "text/plain": [
       "<Figure size 640x480 with 1 Axes>"
      ]
     },
     "metadata": {},
     "output_type": "display_data"
    }
   ],
   "source": [
    "wdist(h)"
   ]
  },
  {
   "cell_type": "code",
   "execution_count": 30,
   "id": "0d971695-8306-4d7e-9a38-2986db930f8c",
   "metadata": {},
   "outputs": [
    {
     "data": {
      "application/vnd.jupyter.widget-view+json": {
       "model_id": "9c1492cbc85643848f5dfa450120020f",
       "version_major": 2,
       "version_minor": 0
      },
      "text/plain": [
       "Sigma(nx.Graph with 77 nodes and 2,860 edges)"
      ]
     },
     "execution_count": 30,
     "metadata": {},
     "output_type": "execute_result"
    }
   ],
   "source": [
    "w = Sigma(\n",
    "    h,\n",
    "    edge_color=\"weight\",\n",
    "    edge_color_gradient=[\"rgba(0, 0, 0, 0)\", \"black\"],\n",
    "    node_size=g.degree,\n",
    "    default_node_border_size=1,\n",
    "    default_node_border_color=\"white\",\n",
    "    node_color=\"louvain\",\n",
    "    node_metrics=[\"louvain\"],\n",
    "    edge_size=\"weight\",\n",
    "    edge_size_range=(0.5, 3)\n",
    ")\n",
    "w"
   ]
  },
  {
   "cell_type": "code",
   "execution_count": 31,
   "id": "0e2255e4-8425-4640-9477-0c2438cf6ff6",
   "metadata": {},
   "outputs": [
    {
     "data": {
      "application/vnd.jupyter.widget-view+json": {
       "model_id": "695b7672218444769c4bd418bb24609c",
       "version_major": 2,
       "version_minor": 0
      },
      "text/plain": [
       "VBox(children=(HBox(children=(Sigma(nx.Graph with 77 nodes and 254 edges), Sigma(nx.Graph with 77 nodes and 25…"
      ]
     },
     "metadata": {},
     "output_type": "display_data"
    }
   ],
   "source": [
    "SigmaGrid(g, node_size=g.degree, views=[\n",
    "    {\"node_color\": w.node_metrics[\"louvain\"][\"result\"], \"name\": \"Selfsim\"},\n",
    "    {\"node_color\": \"louvain\", \"node_metrics\": [\"louvain\"], \"name\": \"Regular\"}\n",
    "])"
   ]
  },
  {
   "cell_type": "code",
   "execution_count": 90,
   "id": "772d91ba-0272-46c9-a760-b7b4e0ce5c2b",
   "metadata": {},
   "outputs": [],
   "source": [
    "m = nx.Graph()\n",
    "\n",
    "for u, v in g.edges():\n",
    "    m.add_edge(u, v, original=True, weight=1)\n",
    "\n",
    "for u, v in h.edges():\n",
    "    if not m.has_edge(u, v):\n",
    "        m.add_edge(u, v, original=False, weight=0)"
   ]
  },
  {
   "cell_type": "code",
   "execution_count": 72,
   "id": "16e29a22-9f2a-4f9b-91a9-4908ec4eb3d3",
   "metadata": {},
   "outputs": [
    {
     "data": {
      "application/vnd.jupyter.widget-view+json": {
       "model_id": "baa2eeca804b42cea93d83a8426de744",
       "version_major": 2,
       "version_minor": 0
      },
      "text/plain": [
       "Sigma(nx.Graph with 77 nodes and 1,249 edges)"
      ]
     },
     "execution_count": 72,
     "metadata": {},
     "output_type": "execute_result"
    }
   ],
   "source": [
    "Sigma(m, node_size=g.degree, edge_color=\"original\", edge_zindex=\"original\", edge_color_palette={True: \"red\"})"
   ]
  },
  {
   "cell_type": "code",
   "execution_count": 33,
   "id": "c6fc5c15-09c8-4e51-a2cf-c646a8daa82c",
   "metadata": {},
   "outputs": [],
   "source": [
    "def directed_selfsim(g: nx.DiGraph, k=10) -> nx.Graph:\n",
    "    h = nx.Graph()\n",
    "    # k = math.ceil(math.log2(len(g)))\n",
    "\n",
    "    vectors = {}\n",
    "\n",
    "    for n1 in g:\n",
    "        v = set()\n",
    "\n",
    "        for n2, d in bfs_from_node_directed(g, n1, limit=2):\n",
    "            v.add((True, n2, d))\n",
    "\n",
    "        for n2, d in bfs_from_node_directed(g, n1, limit=2, reverse=True):\n",
    "            v.add((False, n2, d))\n",
    "\n",
    "        vectors[n1] = v\n",
    "\n",
    "    nodes = list(vectors)\n",
    "\n",
    "    for i in range(len(nodes)):\n",
    "        n1 = nodes[i]\n",
    "        h.add_node(n1, label=g.nodes[n1].get(\"label\"))\n",
    "        v1 = vectors[n1]\n",
    "\n",
    "        candidates = []\n",
    "\n",
    "        for j in range(i + 1, len(nodes)):\n",
    "            n2 = nodes[j]\n",
    "\n",
    "            # if g.has_edge(n1, n2):\n",
    "            #     continue\n",
    "            \n",
    "            v2 = vectors[n2]\n",
    "\n",
    "            u = set()\n",
    "            i = set()\n",
    "\n",
    "            for n in v1:\n",
    "                if n == n2:\n",
    "                    continue\n",
    "\n",
    "                u.add(n)\n",
    "\n",
    "                if n in v2:\n",
    "                    i.add(n)\n",
    "\n",
    "            for n in v2:\n",
    "                if n == n1:\n",
    "                    continue\n",
    "\n",
    "                u.add(n)\n",
    "\n",
    "            s = len(i) / len(u)\n",
    "\n",
    "            if s > 0:\n",
    "                candidates.append((s, n2))\n",
    "\n",
    "        for s, n2 in sorted(candidates, reverse=True)[:k]:\n",
    "            h.add_edge(n1, n2, weight=s)\n",
    "            \n",
    "    return h"
   ]
  },
  {
   "cell_type": "code",
   "execution_count": 34,
   "id": "9cc697fd-114f-4138-9376-f2ec4b843524",
   "metadata": {},
   "outputs": [],
   "source": [
    "corpus = read_graphology_json(\"./polarisation.json\")"
   ]
  },
  {
   "cell_type": "code",
   "execution_count": 44,
   "id": "ee79c961-10db-4c9b-a889-3a2063a0cb8a",
   "metadata": {},
   "outputs": [],
   "source": [
    "h_corpus = directed_selfsim(corpus, k=3)"
   ]
  },
  {
   "cell_type": "code",
   "execution_count": 39,
   "id": "9cd75198-0fa8-4a3a-ab92-55f39203a9e0",
   "metadata": {},
   "outputs": [
    {
     "data": {
      "text/plain": [
       "<Axes: ylabel='Frequency'>"
      ]
     },
     "execution_count": 39,
     "metadata": {},
     "output_type": "execute_result"
    },
    {
     "data": {
      "image/png": "[encoded data removed]",
      "text/plain": [
       "<Figure size 640x480 with 1 Axes>"
      ]
     },
     "metadata": {},
     "output_type": "display_data"
    }
   ],
   "source": [
    "wdist(h_corpus)"
   ]
  },
  {
   "cell_type": "code",
   "execution_count": 45,
   "id": "af4c26c7-764b-483b-8318-4e48f3a94e2d",
   "metadata": {},
   "outputs": [
    {
     "data": {
      "application/vnd.jupyter.widget-view+json": {
       "model_id": "984da0a2fd1643beb793de12b15e0eb3",
       "version_major": 2,
       "version_minor": 0
      },
      "text/plain": [
       "Sigma(nx.Graph with 420 nodes and 1,254 edges)"
      ]
     },
     "execution_count": 45,
     "metadata": {},
     "output_type": "execute_result"
    }
   ],
   "source": [
    "w = Sigma(\n",
    "    h_corpus,\n",
    "    node_size=corpus.degree,\n",
    "    default_node_border_size=1,\n",
    "    default_node_border_color=\"white\",\n",
    "    node_color=\"louvain\",\n",
    "    node_metrics=[{\"name\": \"louvain\", \"resolution\": 1.3}],\n",
    "    edge_size=\"weight\",\n",
    "    edge_size_range=(0.5, 3),\n",
    "    show_all_labels=False,\n",
    ")\n",
    "w"
   ]
  },
  {
   "cell_type": "code",
   "execution_count": 82,
   "id": "150b9b2d-d793-456b-a8ef-658cbd17e2a9",
   "metadata": {
    "collapsed": true,
    "jupyter": {
     "outputs_hidden": true
    }
   },
   "outputs": [
    {
     "data": {
      "application/vnd.jupyter.widget-view+json": {
       "model_id": "5976e418223c4b21b5522ce5b5b07830",
       "version_major": 2,
       "version_minor": 0
      },
      "text/plain": [
       "VBox(children=(HBox(children=(Sigma(nx.DiGraph with 420 nodes and 20,935 edges), Sigma(nx.DiGraph with 420 nod…"
      ]
     },
     "metadata": {},
     "output_type": "display_data"
    }
   ],
   "source": [
    "SigmaGrid(corpus, node_size=corpus.degree, node_label_size=corpus.degree, node_label_size_range=(4, 12), views=[\n",
    "    {\"node_color\": w.node_metrics[\"louvain\"][\"result\"], \"name\": \"Selfsim\"},\n",
    "    {\"node_color\": \"louvain\", \"node_metrics\": [\"louvain\"], \"name\": \"Louvain\"},\n",
    "    {\"node_color\": \"wheel_subcategory\", \"name\": \"Wheel\"}\n",
    "], columns=3)"
   ]
  },
  {
   "cell_type": "code",
   "execution_count": 9,
   "id": "6ab0ae07-93e8-4358-a930-0bdf1545d5f6",
   "metadata": {},
   "outputs": [],
   "source": [
    "def undirected_selfsim(g: nx.Graph, k=10, depth=2) -> nx.Graph:\n",
    "    h = nx.Graph()\n",
    "    # k = math.ceil(math.log2(len(g)))\n",
    "\n",
    "    vectors = {}\n",
    "\n",
    "    for n1 in g:\n",
    "        v = set()\n",
    "\n",
    "        for t in bfs_from_node(g, n1, limit=depth):\n",
    "            v.add(t)\n",
    "\n",
    "        vectors[n1] = v\n",
    "\n",
    "    nodes = list(vectors)\n",
    "\n",
    "    for i in range(len(nodes)):\n",
    "        n1 = nodes[i]\n",
    "        h.add_node(n1, label=g.nodes[n1].get(\"label\"))\n",
    "        v1 = vectors[n1]\n",
    "\n",
    "        candidates = []\n",
    "\n",
    "        for j in range(i + 1, len(nodes)):\n",
    "            n2 = nodes[j]\n",
    "\n",
    "            # if g.has_edge(n1, n2):\n",
    "            #     continue\n",
    "            \n",
    "            v2 = vectors[n2]\n",
    "\n",
    "            u = set()\n",
    "            i = set()\n",
    "\n",
    "            for n in v1:\n",
    "                if n[0] == n2:\n",
    "                    continue\n",
    "\n",
    "                u.add(n)\n",
    "\n",
    "                if n in v2:\n",
    "                    i.add(n)\n",
    "\n",
    "            for n in v2:\n",
    "                if n[0] == n1:\n",
    "                    continue\n",
    "\n",
    "                u.add(n)\n",
    "\n",
    "            if len(u) == 0:\n",
    "                continue\n",
    "\n",
    "            s = len(i) / min(len(v1), len(v2))\n",
    "\n",
    "            if s > 0:\n",
    "                candidates.append((s, n2))\n",
    "\n",
    "        for s, n2 in sorted(candidates, reverse=True)[:k]:\n",
    "            h.add_edge(n1, n2, weight=s)\n",
    "            \n",
    "    return h"
   ]
  },
  {
   "cell_type": "code",
   "execution_count": 43,
   "id": "2bc39c31-5f20-42cc-9dab-ddd5a9966381",
   "metadata": {},
   "outputs": [],
   "source": [
    "eurosis = read_graphology_json(\"./eurosis.json\")"
   ]
  },
  {
   "cell_type": "code",
   "execution_count": 44,
   "id": "0ff63522-003e-48b0-9bc2-3c6807ec580e",
   "metadata": {},
   "outputs": [
    {
     "data": {
      "text/plain": [
       "1285"
      ]
     },
     "execution_count": 44,
     "metadata": {},
     "output_type": "execute_result"
    }
   ],
   "source": [
    "simple = nx.Graph()\n",
    "\n",
    "for node, a in eurosis.nodes(data=True):\n",
    "    simple.add_node(node, **a)\n",
    "\n",
    "for u, v in eurosis.edges():\n",
    "    simple.add_edge(u, v)\n",
    "\n",
    "eurosis = simple\n",
    "eurosis.order()"
   ]
  },
  {
   "cell_type": "code",
   "execution_count": 70,
   "id": "59cf6890-36bb-47b1-9819-4b75edf31d44",
   "metadata": {},
   "outputs": [],
   "source": [
    "h_eurosis = undirected_selfsim(eurosis)"
   ]
  },
  {
   "cell_type": "code",
   "execution_count": 71,
   "id": "d6982a48-ef8d-413c-b37c-e5033a088823",
   "metadata": {},
   "outputs": [
    {
     "data": {
      "text/plain": [
       "<Axes: ylabel='Frequency'>"
      ]
     },
     "execution_count": 71,
     "metadata": {},
     "output_type": "execute_result"
    },
    {
     "data": {
      "image/png": "[encoded data removed]",
      "text/plain": [
       "<Figure size 640x480 with 1 Axes>"
      ]
     },
     "metadata": {},
     "output_type": "display_data"
    }
   ],
   "source": [
    "wdist(h_eurosis)"
   ]
  },
  {
   "cell_type": "code",
   "execution_count": 72,
   "id": "3e6ec829-c42b-489f-a47d-4af54bcc407e",
   "metadata": {},
   "outputs": [
    {
     "data": {
      "application/vnd.jupyter.widget-view+json": {
       "model_id": "07d91e9a18d14f8cb60349bb811e597a",
       "version_major": 2,
       "version_minor": 0
      },
      "text/plain": [
       "Sigma(nx.Graph with 1,285 nodes and 12,602 edges)"
      ]
     },
     "execution_count": 72,
     "metadata": {},
     "output_type": "execute_result"
    }
   ],
   "source": [
    "w = Sigma(\n",
    "    h_eurosis,\n",
    "    node_size=eurosis.degree,\n",
    "    default_node_border_size=1,\n",
    "    default_node_border_color=\"white\",\n",
    "    node_color=\"louvain\",\n",
    "    node_metrics=[{\"name\": \"louvain\", \"resolution\": 1.2}],\n",
    "    edge_size=\"weight\",\n",
    "    edge_size_range=(0.5, 3),\n",
    ")\n",
    "w"
   ]
  },
  {
   "cell_type": "code",
   "execution_count": 73,
   "id": "bbd5a75a-c4c1-4474-934a-0ad70fa412ee",
   "metadata": {},
   "outputs": [
    {
     "data": {
      "application/vnd.jupyter.widget-view+json": {
       "model_id": "786d6d8593f74353befdb28e81d57068",
       "version_major": 2,
       "version_minor": 0
      },
      "text/plain": [
       "VBox(children=(HBox(children=(Sigma(nx.Graph with 1,285 nodes and 6,462 edges), Sigma(nx.Graph with 1,285 node…"
      ]
     },
     "metadata": {},
     "output_type": "display_data"
    }
   ],
   "source": [
    "SigmaGrid(eurosis, node_size=eurosis.degree, views=[\n",
    "    {\"node_color\": w.node_metrics[\"louvain\"][\"result\"], \"name\": \"Selfsim\"},\n",
    "    {\"node_color\": \"louvain\", \"node_metrics\": [\"louvain\"], \"name\": \"Louvain\"},\n",
    "], columns=3)"
   ]
  }
 ],
 "metadata": {
  "kernelspec": {
   "display_name": "Python 3 (ipykernel)",
   "language": "python",
   "name": "python3"
  },
  "language_info": {
   "codemirror_mode": {
    "name": "ipython",
    "version": 3
   },
   "file_extension": ".py",
   "mimetype": "text/x-python",
   "name": "python",
   "nbconvert_exporter": "python",
   "pygments_lexer": "ipython3",
   "version": "3.11.5"
  }
 },
 "nbformat": 4,
 "nbformat_minor": 5
}
